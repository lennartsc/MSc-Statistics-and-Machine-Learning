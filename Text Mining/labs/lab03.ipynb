{
 "cells": [
  {
   "cell_type": "markdown",
   "metadata": {},
   "source": [
    "# L3: Text clustering and topic modelling"
   ]
  },
  {
   "cell_type": "markdown",
   "metadata": {},
   "source": [
    "Text clustering groups documents in such a way that documents within a group are more &lsquo;similar&rsquo; to other documents in the cluster than to documents not in the cluster. The exact definition of what &lsquo;similar&rsquo; means in this context varies across applications and clustering algorithms.\n",
    "\n",
    "In this lab you will experiment with both hard and soft clustering techniques. More specifically, in the first part you will be using the $k$-means algorithm, and in the second part you will be using a topic model based on the Latent Dirichlet Allocation (LDA)."
   ]
  },
  {
   "cell_type": "markdown",
   "metadata": {},
   "source": [
    "## Hard clustering data set"
   ]
  },
  {
   "cell_type": "markdown",
   "metadata": {},
   "source": [
    "The raw data for the hard clustering part of this lab is a collection of product reviews. We have preprocessed the data by tokenization and lowercasing."
   ]
  },
  {
   "cell_type": "code",
   "execution_count": 37,
   "metadata": {},
   "outputs": [],
   "source": [
    "import pandas as pd\n",
    "import bz2\n",
    "\n",
    "with bz2.open(\"reviews.json.bz2\") as source:\n",
    "    df = pd.read_json(source)"
   ]
  },
  {
   "cell_type": "markdown",
   "metadata": {},
   "source": [
    "When you inspect the data frame, you can see that there are three labelled columns: `category` (the product category), `sentiment` (whether the product review was classified as &lsquo;positive&rsquo; or &lsquo;negative&rsquo; towards the product), and `text` (the space-separated text of the review)."
   ]
  },
  {
   "cell_type": "code",
   "execution_count": 38,
   "metadata": {},
   "outputs": [
    {
     "data": {
      "text/html": [
       "<div>\n",
       "<style scoped>\n",
       "    .dataframe tbody tr th:only-of-type {\n",
       "        vertical-align: middle;\n",
       "    }\n",
       "\n",
       "    .dataframe tbody tr th {\n",
       "        vertical-align: top;\n",
       "    }\n",
       "\n",
       "    .dataframe thead th {\n",
       "        text-align: right;\n",
       "    }\n",
       "</style>\n",
       "<table border=\"1\" class=\"dataframe\">\n",
       "  <thead>\n",
       "    <tr style=\"text-align: right;\">\n",
       "      <th></th>\n",
       "      <th>category</th>\n",
       "      <th>sentiment</th>\n",
       "      <th>text</th>\n",
       "    </tr>\n",
       "  </thead>\n",
       "  <tbody>\n",
       "    <tr>\n",
       "      <th>0</th>\n",
       "      <td>music</td>\n",
       "      <td>neg</td>\n",
       "      <td>i bought this album because i loved the title ...</td>\n",
       "    </tr>\n",
       "    <tr>\n",
       "      <th>1</th>\n",
       "      <td>music</td>\n",
       "      <td>neg</td>\n",
       "      <td>i was misled and thought i was buying the enti...</td>\n",
       "    </tr>\n",
       "    <tr>\n",
       "      <th>2</th>\n",
       "      <td>books</td>\n",
       "      <td>neg</td>\n",
       "      <td>i have introduced many of my ell , high school...</td>\n",
       "    </tr>\n",
       "    <tr>\n",
       "      <th>3</th>\n",
       "      <td>books</td>\n",
       "      <td>pos</td>\n",
       "      <td>anything you purchase in the left behind serie...</td>\n",
       "    </tr>\n",
       "    <tr>\n",
       "      <th>4</th>\n",
       "      <td>dvd</td>\n",
       "      <td>pos</td>\n",
       "      <td>i loved these movies , and i cant wiat for the...</td>\n",
       "    </tr>\n",
       "  </tbody>\n",
       "</table>\n",
       "</div>"
      ],
      "text/plain": [
       "  category sentiment                                               text\n",
       "0    music       neg  i bought this album because i loved the title ...\n",
       "1    music       neg  i was misled and thought i was buying the enti...\n",
       "2    books       neg  i have introduced many of my ell , high school...\n",
       "3    books       pos  anything you purchase in the left behind serie...\n",
       "4      dvd       pos  i loved these movies , and i cant wiat for the..."
      ]
     },
     "execution_count": 38,
     "metadata": {},
     "output_type": "execute_result"
    }
   ],
   "source": [
    "df.head()"
   ]
  },
  {
   "cell_type": "markdown",
   "metadata": {},
   "source": [
    "## Problem 1: K-means clustering"
   ]
  },
  {
   "cell_type": "markdown",
   "metadata": {},
   "source": [
    "Your first task is to cluster the product review data using a tf–idf vectorizer and a $k$-means clusterer."
   ]
  },
  {
   "cell_type": "markdown",
   "metadata": {},
   "source": [
    "Start by doing the vectorization. In connection with vectorization, you should also filter out standard English stop words. While you could use [spaCy](https://spacy.io/) for this task, here it suffices to use the word list implemented in [TfidfVectorizer](https://scikit-learn.org/stable/modules/generated/sklearn.feature_extraction.text.TfidfVectorizer.html)."
   ]
  },
  {
   "cell_type": "code",
   "execution_count": 39,
   "metadata": {},
   "outputs": [],
   "source": [
    "from sklearn.feature_extraction.text import TfidfVectorizer\n",
    "\n",
    "# Creating instance of TfidfVectorizer class. Initializing using own preprocessor function as the tokenizer.\n",
    "vectorizer = TfidfVectorizer(stop_words = \"english\")\n",
    "\n",
    "# Learning vocabulary and tf-idf, returning term-document matrix. \n",
    "reviews = vectorizer.fit_transform(df[\"text\"])"
   ]
  },
  {
   "cell_type": "markdown",
   "metadata": {},
   "source": [
    "Test your vectorization by running the following code cell:"
   ]
  },
  {
   "cell_type": "code",
   "execution_count": 40,
   "metadata": {},
   "outputs": [
    {
     "data": {
      "text/plain": [
       "(11914, 46619)"
      ]
     },
     "execution_count": 40,
     "metadata": {},
     "output_type": "execute_result"
    }
   ],
   "source": [
    "reviews.shape\n",
    "\n",
    "# 11,914 rows/documents/reviews\n",
    "# 46,619 columns/terms"
   ]
  },
  {
   "cell_type": "markdown",
   "metadata": {},
   "source": [
    "If you used the English stop word list from scikit-learn, then the resulting vocabulary should have 46,619 entries."
   ]
  },
  {
   "cell_type": "markdown",
   "metadata": {},
   "source": [
    "Next, cluster the vectorized data. Before doing so, you should read the documentation of the [KMeans](https://scikit-learn.org/stable/modules/generated/sklearn.cluster.KMeans.html) class, which is scikit-learn&rsquo;s implementation of the $k$-means algorithm. As you can see, this class has several parameters that you can tweak. For now, the only parameter that you will have to set is the number of clusters. We recommend that you choose $k=3$.\n",
    "\n",
    "**Tip:** Training $k$-means models will take some time. To speed things up, you can use the `n_init` parameter to control the number of times that the clustering is re-computed with different initial values. The default value for this parameter is 10; here and in the rest of this lab, you may want to set this to a lower value."
   ]
  },
  {
   "cell_type": "code",
   "execution_count": 41,
   "metadata": {},
   "outputs": [],
   "source": [
    "from sklearn.cluster import KMeans\n",
    "\n",
    "# Training clusters to get centers for each cluster.\n",
    "kmeans = KMeans(n_clusters = 3, n_init = 3).fit(reviews)"
   ]
  },
  {
   "cell_type": "code",
   "execution_count": 42,
   "metadata": {},
   "outputs": [],
   "source": [
    "# Predicting clusters for each rewview.\n",
    "cluster_predictions = kmeans.predict(reviews)"
   ]
  },
  {
   "cell_type": "markdown",
   "metadata": {},
   "source": [
    "To sanity-check your clustering, create a bar plot with the number of documents per cluster."
   ]
  },
  {
   "cell_type": "code",
   "execution_count": 43,
   "metadata": {},
   "outputs": [
    {
     "data": {
      "image/png": "[encoded data removed]",
      "text/plain": [
       "<Figure size 432x288 with 1 Axes>"
      ]
     },
     "metadata": {
      "needs_background": "light"
     },
     "output_type": "display_data"
    }
   ],
   "source": [
    "import numpy as np\n",
    "import matplotlib.pyplot as plt\n",
    "\n",
    "# Plotting training data.\n",
    "plt.bar(x = np.unique(cluster_predictions, return_counts=True)[0], \n",
    "        height = np.unique(cluster_predictions, return_counts=True)[1],\n",
    "        color = ['black', 'red', 'green'])\n",
    "plt.title('Clustering result')\n",
    "plt.xlabel('Cluster')\n",
    "plt.ylabel('Number of reviews')\n",
    "plt.show()"
   ]
  },
  {
   "cell_type": "markdown",
   "metadata": {},
   "source": [
    "Note that sizes may vary considerable between clusters and among different random seeds."
   ]
  },
  {
   "cell_type": "markdown",
   "metadata": {},
   "source": [
    "## Problem 2: Summarize clusters"
   ]
  },
  {
   "cell_type": "markdown",
   "metadata": {},
   "source": [
    "Once you have a clustering, you can try to see whether it is meaningful. One useful technique in that context is to generate a **summary** for each cluster by extracting the $n$ highest-weighted terms from the centroid of each cluster. Your next task is to implement this approach.\n",
    "\n",
    "**Hint:** You will need to construct an &lsquo;inverted vocabulary&rsquo; that allows you to map from the index of a term back to the original term."
   ]
  },
  {
   "cell_type": "code",
   "execution_count": 44,
   "metadata": {},
   "outputs": [
    {
     "name": "stdout",
     "output_type": "stream",
     "text": [
      "Top 10 weighted terms of cluster 0: \n",
      "['book' 'product' 'use' 'great' 'just' 'like' 'good' 'does' 'time' 'read']\n",
      "Top 10 weighted terms of cluster 1: \n",
      "['movie' 'album' 'cd' 'music' 'film' 'songs' 'like' 'quot' 'song' 'just']\n",
      "Top 10 weighted terms of cluster 2: \n",
      "['camera' 'lens' 'pictures' 'canon' 'digital' 'use' 'flash' 'battery'\n",
      " 'quality' 'great']\n"
     ]
    }
   ],
   "source": [
    "# Extracting terms.\n",
    "terms_all = np.array(vectorizer.get_feature_names())\n",
    "\n",
    "# Defining function.\n",
    "def get_highest_weighted_terms(cluster_number, n = 10):\n",
    "    # Producing data frame with all terms and values.\n",
    "    cluster_df = pd.DataFrame({\"term_value\" : kmeans.cluster_centers_[cluster_number]})\n",
    "    # Sorting df according to term_value descendingly.\n",
    "    cluster_df = cluster_df.sort_values(by = [\"term_value\"], ascending = [False])\n",
    "    # Extracting indices of top n terms.\n",
    "    top_n_ind = cluster_df[:n].index.values.tolist()\n",
    "    # Extracting relevant terms.\n",
    "    terms_top_n = terms_all[top_n_ind]\n",
    "    # Printing top n terms.\n",
    "    print(\"Top \" + str(n) + \" weighted terms of cluster \" + str(cluster_number) + \": \")\n",
    "    print(terms_top_n)\n",
    "\n",
    "# Running function for each cluster.\n",
    "get_highest_weighted_terms(cluster_number = 0)\n",
    "get_highest_weighted_terms(cluster_number = 1)\n",
    "get_highest_weighted_terms(cluster_number = 2)"
   ]
  },
  {
   "cell_type": "markdown",
   "metadata": {},
   "source": [
    "Once you have computed the cluster summaries, discuss their quality. Is it clear what the reviews in a given cluster are about? Which clusters are clearest? Which are less clear? Do the cluster summaries contain any unexpected terms? What happens if you re-cluster with, say, $k=6$?"
   ]
  },
  {
   "cell_type": "markdown",
   "metadata": {},
   "source": [
    "Discussion of cluster quality:\n",
    "\n",
    "Cluster 0 contains a lot of verbs(\"use\", \"does\", \"work\") or adjectives(\"great\", \"easy\", \"just\") which does not make it easy to identify the topic which the cluster is about. Through the nouns \"software\" and \"program\" one might conclude that the cluster is about programming.\n",
    "\n",
    "Cluster 1 contains words like \"book\", \"movie\", \"album\", \"cd\", \"music\" which makes it very obvious that in cludes reviews about entertainment.\n",
    "\n",
    "The topic of cluster 2 is also quite easy to identify since almost all terms lead to the conclusion that the reviews are about photography. Cluster 2 is probably the cluster which is the easiest to identify among the three clusters."
   ]
  },
  {
   "cell_type": "code",
   "execution_count": 45,
   "metadata": {},
   "outputs": [
    {
     "name": "stdout",
     "output_type": "stream",
     "text": [
      "Top 10 weighted terms of cluster 0: \n",
      "['album' 'cd' 'music' 'songs' 'quot' 'song' 'like' 'just' 'great' 'band']\n",
      "Top 10 weighted terms of cluster 1: \n",
      "['camera' 'lens' 'pictures' 'canon' 'digital' 'use' 'flash' 'battery'\n",
      " 'quality' 'great']\n",
      "Top 10 weighted terms of cluster 2: \n",
      "['software' 'product' 'program' 'use' 'version' 'computer' 'easy'\n",
      " 'support' 'windows' 'microsoft']\n",
      "Top 10 weighted terms of cluster 3: \n",
      "['great' 'product' 'good' 'like' 'just' 'use' 'hair' 'does' 'time' 'did']\n",
      "Top 10 weighted terms of cluster 4: \n",
      "['book' 'read' 'books' 'author' 'reading' 'story' 'like' 'quot' 'just'\n",
      " 'written']\n",
      "Top 10 weighted terms of cluster 5: \n",
      "['movie' 'film' 'movies' 'like' 'watch' 'story' 'just' 'good' 'great'\n",
      " 'acting']\n"
     ]
    }
   ],
   "source": [
    "# Reclustering with k = 6.\n",
    "\n",
    "## Training clusters to get centers for each cluster.\n",
    "kmeans = KMeans(n_clusters = 6, n_init = 3).fit(reviews)\n",
    "\n",
    "## Predicting clusters for each rewview.\n",
    "cluster_predictions = kmeans.predict(reviews)\n",
    "\n",
    "## Running function for each cluster.\n",
    "get_highest_weighted_terms(cluster_number = 0)\n",
    "get_highest_weighted_terms(cluster_number = 1)\n",
    "get_highest_weighted_terms(cluster_number = 2)\n",
    "get_highest_weighted_terms(cluster_number = 3)\n",
    "get_highest_weighted_terms(cluster_number = 4)\n",
    "get_highest_weighted_terms(cluster_number = 5)"
   ]
  },
  {
   "cell_type": "markdown",
   "metadata": {},
   "source": [
    "Except from cluster 3, reclustering with k=6 leads to clusters which might be even seen as more expressive:\n",
    "\n",
    "- Cluster 0: Music\n",
    "- Cluster 1: Photography\n",
    "- Cluster 2: Programming\n",
    "- Cluster 3: ?\n",
    "- Cluster 4: Books\n",
    "- Cluster 5: Movies"
   ]
  },
  {
   "cell_type": "markdown",
   "metadata": {},
   "source": [
    "## Problem 3: Tune the k-means algorithm"
   ]
  },
  {
   "cell_type": "markdown",
   "metadata": {},
   "source": [
    "A major limitation of the $k$-means algorithm is that one has to manually set the value for $k$, the number of clusters. One heuristic that can help you with this is the [Elbow method](https://en.wikipedia.org/wiki/Elbow_method_(clustering)). Your next task is to implement this method to see whether it allows you to find a better value for $k$.\n",
    "\n",
    "To follow the elbow method, you should plot different values of $k$ against the **inertia** (sums of squared distances between documents and closest centroids) of the fitted $k$-means model, and pick the $k$ at the &lsquo;elbow point&rsquo; of the resulting graph. Test cluster sizes between 1 and 9.\n",
    "\n",
    "**Note that this will take a while.**"
   ]
  },
  {
   "cell_type": "code",
   "execution_count": 106,
   "metadata": {},
   "outputs": [],
   "source": [
    "# Storing k and insertia within two seperated lists.\n",
    "\n",
    "k_list = []\n",
    "inertia_list = []\n",
    "\n",
    "for k in range(1, 10):\n",
    "    # Training clusters to get centers for each cluster.\n",
    "    kmeans = KMeans(n_clusters = k, n_init = 3).fit(reviews)\n",
    "    # Storing k and inertia.\n",
    "    k_list.append(k)\n",
    "    inertia_list.append(kmeans.inertia_)"
   ]
  },
  {
   "cell_type": "code",
   "execution_count": 107,
   "metadata": {},
   "outputs": [
    {
     "data": {
      "image/png": "[encoded data removed]",
      "text/plain": [
       "<Figure size 432x288 with 1 Axes>"
      ]
     },
     "metadata": {
      "needs_background": "light"
     },
     "output_type": "display_data"
    }
   ],
   "source": [
    "# Using both lists to plot graph which is used to follow elbow method.\n",
    "plt.plot(k_list, inertia_list)\n",
    "plt.title('Insertia vs. number of clusters')\n",
    "plt.xlabel('Number of clusters (k)')\n",
    "plt.ylabel('Insertia')\n",
    "plt.show()"
   ]
  },
  {
   "cell_type": "markdown",
   "metadata": {},
   "source": [
    "Once you have the diagram, can you see a pronounced &lsquo;elbow point&rsquo;? Discuss your findings in a short text."
   ]
  },
  {
   "cell_type": "markdown",
   "metadata": {},
   "source": [
    "The plots does not show an obvious elbow point, but k = 6 is probably the best choice according to the plot."
   ]
  },
  {
   "cell_type": "markdown",
   "metadata": {},
   "source": [
    "## Problem 4: Compare clusterings using the Rand index"
   ]
  },
  {
   "cell_type": "markdown",
   "metadata": {},
   "source": [
    "In some scenarios, you may have gold-standard class labels available for at least a subset of your documents. In these cases you can compute the **Rand index** of a clustering, and use this measure to compare the quality of different clusterings.\n",
    "\n",
    "To compute the Rand index, we view a clustering as a binary classifier on pairs of documents. The classifier predicts &lsquo;positive&rsquo; if and only if the two documents belong to the same cluster. The (non-normalized) Rand index of the clustering is the accuracy of this classifier relative to a reference in which a document pair belongs to the &lsquo;positive&rsquo; class if and only if the two documents in the pair have the same gold-standard class label.\n",
    "\n",
    "Compare a clustering with $k=3$ clusters to a second clustering with $k=6$ clusters. As your evaluation data, use the first 500 documents from the original data set along with their gold-standard categories (from the `category` column). What do you observe? How do you interpret your observations? What arguments can you find against the Rand index as a measure for comparing clusterings?"
   ]
  },
  {
   "cell_type": "code",
   "execution_count": 29,
   "metadata": {},
   "outputs": [
    {
     "name": "stdout",
     "output_type": "stream",
     "text": [
      "Rand index for k=3: 0.23019978295509783\n",
      "Rand index for k=6: 0.38242551085379145\n"
     ]
    }
   ],
   "source": [
    "from sklearn.cluster import KMeans\n",
    "\n",
    "# Subsetting original data to get evaluation data\n",
    "evaluation_data = df.head(n = 500)\n",
    "\n",
    "# Creating instance of TfidfVectorizer class. Initializing using own preprocessor function as the tokenizer.\n",
    "vectorizer_eval = TfidfVectorizer(stop_words = \"english\")\n",
    "\n",
    "# Learning vocabulary and tf-idf, returning term-document matrix. \n",
    "reviews_evaluation = vectorizer_eval.fit_transform(evaluation_data[\"text\"])\n",
    "\n",
    "# Training clusters to get centers for each cluster for k = 3.\n",
    "kmeans3 = KMeans(n_clusters = 3, n_init = 3).fit(reviews_evaluation)\n",
    "\n",
    "# Training clusters to get centers for each cluster for k = 6.\n",
    "kmeans6 = KMeans(n_clusters = 6, n_init = 3).fit(reviews_evaluation)\n",
    "\n",
    "# Predicting clusters for each rewview of evaluation data.\n",
    "## k = 3.\n",
    "cluster_predictionsk_3 = kmeans3.predict(reviews_evaluation)\n",
    "## k = 6.\n",
    "cluster_predictionsk_6 = kmeans6.predict(reviews_evaluation)\n",
    "\n",
    "from sklearn.metrics.cluster import adjusted_rand_score\n",
    "\n",
    "# Computing rand indices.\n",
    "\n",
    "# k = 3.\n",
    "print(\"Rand index for k=3: \" + str(adjusted_rand_score(evaluation_data[\"category\"], cluster_predictionsk_3)))\n",
    "# k = 6.\n",
    "print(\"Rand index for k=6: \" + str(adjusted_rand_score(evaluation_data[\"category\"], cluster_predictionsk_6)))"
   ]
  },
  {
   "cell_type": "markdown",
   "metadata": {},
   "source": [
    "First, we need to say that for every re-run, the results of the rand indices change a lot. So, as a consequence, the printed results can not be seen as a representative argument to say that k=6 is the better choice compared to k=3. The rand index can be interpreted as follows: To compute it, one take a pair of documents and classify it as true or positive depending on the identified cluster of both documents. If both documents are given the same cluster, it is classified as positive, else it is classified as negative. This clasification is then compared to the true classification label. This one refers to the gold-standard-label \"category\". If both documents have the same label, the true classification is declared as  positive, else as negative. Using the comparisons between the classifications of the documents, the accuracy can be calculated. This accuracy is then the Rand index. In our case, k = 6 leads within the printed run to the result that more documents are clustered together with the same \"category\" compared to k = 3."
   ]
  },
  {
   "cell_type": "markdown",
   "metadata": {},
   "source": [
    "## Topic modelling data set"
   ]
  },
  {
   "cell_type": "markdown",
   "metadata": {},
   "source": [
    "The data set for the topic modelling part of this lab is the collection of all [State of the Union](https://en.wikipedia.org/wiki/State_of_the_Union) addresses from the years 1975–2000. These speeches come as a single text file with one sentence per line. The following code cell prints the first 5 lines from the data file:"
   ]
  },
  {
   "cell_type": "code",
   "execution_count": 1,
   "metadata": {},
   "outputs": [
    {
     "name": "stdout",
     "output_type": "stream",
     "text": [
      "mr speaker mr vice president members of the 94th congress and distinguished guests\n",
      "twenty six years ago a freshman congressman a young fellow with lots of idealism who was out to change the world stood before sam rayburn in the well of the house and solemnly swore to the same oath that all of you took yesterday an unforgettable experience and i congratulate you all\n",
      "two days later that same freshman stood at the back of this great chamber over there someplace as president truman all charged up by his single handed election victory reported as the constitution requires on the state of the union\n",
      "when the bipartisan applause stopped president truman said i am happy to report to this 81st congress that the state of the union is good our nation is better able than ever before to meet the needs of the american people and to give them their fair chance in the pursuit of happiness it is foremost among the nations of the world in the search for peace\n",
      "today that freshman member from michigan stands where mr truman stood and i must say to you that the state of the union is not good\n",
      "millions of americans are out of work\n"
     ]
    }
   ],
   "source": [
    "with open(\"sotu_1975_2000.txt\") as source:\n",
    "    for i, line in enumerate(source):\n",
    "        print(line.rstrip())\n",
    "        if i >= 5:\n",
    "            break"
   ]
  },
  {
   "cell_type": "markdown",
   "metadata": {},
   "source": [
    "## Problem 5: Train a topic model"
   ]
  },
  {
   "cell_type": "markdown",
   "metadata": {},
   "source": [
    "Your first task on the topic modelling data is to train an LDA model. For this task you will be using [spaCy](https://spacy.io/) and the [gensim](https://radimrehurek.com/gensim/) topic modelling library.\n",
    "\n",
    "Start by preprocessing the data using spaCy. Given that the data set for this problem is rather small, you do not have to \n",
    "exclude any components from the standard pipeline. Filter out stop words, non-alphabetic tokens, and tokens less than 3 characters in length. Store the documents as a nested list where the first level of nesting corresponds to the sentences and the second level corresponds to the tokens in each sentence."
   ]
  },
  {
   "cell_type": "code",
   "execution_count": 2,
   "metadata": {},
   "outputs": [],
   "source": [
    "# Setting up spacy.\n",
    "import spacy\n",
    "nlp = spacy.load(\"en_core_web_sm\")\n",
    "\n",
    "# Defining preprocess function.\n",
    "#def preprocess(text):\n",
    "#    output = [t for t in nlp(text) if t.lemma_.isalpha() and len(t.lemma_) >=  3 and not t.is_stop]\n",
    "#    output = ' '.join(str(each) for each in output)\n",
    "#    return output\n",
    "\n",
    "def preprocess(text):\n",
    "    output = [str(t) for t in nlp(text) if t.lemma_.isalpha() and len(t.lemma_) >=  3 and not t.is_stop]\n",
    "    return output\n",
    "\n",
    "with open(\"sotu_1975_2000.txt\") as source:\n",
    "    # Storing lines as list elements.\n",
    "    documents = [line.split() for line in source]"
   ]
  },
  {
   "cell_type": "markdown",
   "metadata": {},
   "source": [
    "Test your preprocessing by running the following cell:"
   ]
  },
  {
   "cell_type": "code",
   "execution_count": 3,
   "metadata": {},
   "outputs": [
    {
     "data": {
      "text/plain": [
       "['reduce',\n",
       " 'oil',\n",
       " 'imports',\n",
       " 'million',\n",
       " 'barrels',\n",
       " 'day',\n",
       " 'end',\n",
       " 'year',\n",
       " 'million',\n",
       " 'barrels',\n",
       " 'day',\n",
       " 'end']"
      ]
     },
     "execution_count": 3,
     "metadata": {},
     "output_type": "execute_result"
    }
   ],
   "source": [
    "preprocess(\" \".join(documents[42]))"
   ]
  },
  {
   "cell_type": "markdown",
   "metadata": {},
   "source": [
    "You should get the following output:"
   ]
  },
  {
   "cell_type": "raw",
   "metadata": {},
   "source": [
    "'reduce oil imports million barrels day end year million barrels day end'"
   ]
  },
  {
   "cell_type": "code",
   "execution_count": null,
   "metadata": {},
   "outputs": [],
   "source": [
    "\"\"\"We are aware that the output should actually be a string, however to further use this preprocessing function\n",
    "in the lda model, we need to return a list of strings per document.\"\"\""
   ]
  },
  {
   "cell_type": "code",
   "execution_count": 4,
   "metadata": {},
   "outputs": [],
   "source": [
    "# Creating list of preprocessed documents.\n",
    "document_list = []\n",
    "\n",
    "for each in range(len(documents)):\n",
    "    document_list.append(preprocess(\" \".join(documents[each])))"
   ]
  },
  {
   "cell_type": "markdown",
   "metadata": {},
   "source": [
    "Once you have the list of documents, skim the section [Pre-process and vectorize the documents](https://radimrehurek.com/gensim/auto_examples/tutorials/run_lda.html#pre-process-and-vectorize-the-documents) of the gensim documentation to learn how to create the dictionary and the vectorized corpus representation required by gensim. (Note that you cannot use the standard scikit-learn pipeline in this case.) Then, write code to train an [LdaModel](https://radimrehurek.com/gensim/models/ldamodel.html) for $k=10$ topics, and using default values for all other parameters."
   ]
  },
  {
   "cell_type": "code",
   "execution_count": 6,
   "metadata": {},
   "outputs": [
    {
     "name": "stdout",
     "output_type": "stream",
     "text": [
      "Number of unique tokens: 705\n",
      "Number of documents: 2898\n"
     ]
    }
   ],
   "source": [
    "# Remove rare and common tokens.\n",
    "from gensim.corpora import Dictionary\n",
    "\n",
    "# Create a dictionary representation of the documents.\n",
    "dictionary = Dictionary(document_list)\n",
    "\n",
    "# Filter out words that occur less than 20 documents, or more than 50% of the documents.\n",
    "dictionary.filter_extremes(no_below=20, no_above=0.5)\n",
    "\n",
    "# Bag-of-words representation of the documents.\n",
    "corpus = [dictionary.doc2bow(doc) for doc in document_list]\n",
    "\n",
    "# Let’s see how many tokens and documents we have to train on.\n",
    "print('Number of unique tokens: %d' % len(dictionary))\n",
    "print('Number of documents: %d' % len(corpus))\n",
    "\n",
    "# Train LDA model.\n",
    "from gensim.models import LdaModel\n",
    "temp = dictionary[0]  # This is only to \"load\" the dictionary.\n",
    "id2word = dictionary.id2token\n",
    "model = LdaModel(corpus = corpus, id2word=id2word, num_topics = 10)"
   ]
  },
  {
   "cell_type": "markdown",
   "metadata": {},
   "source": [
    "Once you have a trained model, run the following cell to print the topics:"
   ]
  },
  {
   "cell_type": "code",
   "execution_count": 77,
   "metadata": {},
   "outputs": [
    {
     "data": {
      "text/plain": [
       "[(0,\n",
       "  '0.032*\"america\" + 0.016*\"work\" + 0.016*\"world\" + 0.015*\"new\" + 0.015*\"people\" + 0.014*\"year\" + 0.012*\"crime\" + 0.010*\"tonight\" + 0.010*\"years\" + 0.010*\"know\"'),\n",
       " (1,\n",
       "  '0.025*\"children\" + 0.025*\"year\" + 0.018*\"parents\" + 0.018*\"years\" + 0.017*\"security\" + 0.016*\"social\" + 0.013*\"new\" + 0.012*\"congress\" + 0.011*\"long\" + 0.010*\"american\"'),\n",
       " (2,\n",
       "  '0.024*\"new\" + 0.020*\"teachers\" + 0.020*\"help\" + 0.019*\"schools\" + 0.017*\"congress\" + 0.013*\"challenge\" + 0.011*\"america\" + 0.010*\"future\" + 0.010*\"work\" + 0.010*\"support\"'),\n",
       " (3,\n",
       "  '0.024*\"government\" + 0.023*\"budget\" + 0.020*\"years\" + 0.018*\"federal\" + 0.017*\"year\" + 0.014*\"tax\" + 0.012*\"new\" + 0.012*\"cut\" + 0.010*\"people\" + 0.010*\"billion\"'),\n",
       " (4,\n",
       "  '0.025*\"people\" + 0.020*\"years\" + 0.019*\"work\" + 0.019*\"welfare\" + 0.019*\"care\" + 0.015*\"health\" + 0.014*\"country\" + 0.013*\"time\" + 0.011*\"americans\" + 0.011*\"america\"'),\n",
       " (5,\n",
       "  '0.023*\"school\" + 0.021*\"children\" + 0.019*\"know\" + 0.015*\"world\" + 0.014*\"high\" + 0.014*\"year\" + 0.011*\"america\" + 0.011*\"work\" + 0.010*\"college\" + 0.010*\"let\"'),\n",
       " (6,\n",
       "  '0.016*\"congress\" + 0.016*\"care\" + 0.013*\"america\" + 0.012*\"help\" + 0.012*\"right\" + 0.012*\"new\" + 0.011*\"tax\" + 0.010*\"ask\" + 0.009*\"children\" + 0.009*\"year\"'),\n",
       " (7,\n",
       "  '0.026*\"america\" + 0.023*\"people\" + 0.021*\"world\" + 0.019*\"security\" + 0.018*\"americans\" + 0.017*\"american\" + 0.016*\"century\" + 0.015*\"community\" + 0.014*\"peace\" + 0.011*\"let\"'),\n",
       " (8,\n",
       "  '0.019*\"people\" + 0.015*\"war\" + 0.013*\"world\" + 0.011*\"weapons\" + 0.011*\"nuclear\" + 0.011*\"american\" + 0.011*\"believe\" + 0.010*\"america\" + 0.010*\"balance\" + 0.009*\"act\"'),\n",
       " (9,\n",
       "  '0.030*\"new\" + 0.025*\"people\" + 0.016*\"help\" + 0.015*\"families\" + 0.013*\"americans\" + 0.013*\"college\" + 0.013*\"america\" + 0.012*\"know\" + 0.012*\"congress\" + 0.011*\"american\"')]"
      ]
     },
     "execution_count": 77,
     "metadata": {},
     "output_type": "execute_result"
    }
   ],
   "source": [
    "model.print_topics()"
   ]
  },
  {
   "cell_type": "markdown",
   "metadata": {},
   "source": [
    "Inspect the topics. Do they make sense? Can you &lsquo;label&rsquo; each topic with a short description of what it is about? Do the topics contain any unexpected terms? Summarize your discussion in a short text."
   ]
  },
  {
   "cell_type": "markdown",
   "metadata": {},
   "source": [
    "- Topic 0: employment\n",
    "- Topic 1: family\n",
    "- Topic 2: education\n",
    "- Topic 3: public finance \n",
    "- Topic 4: social welfare\n",
    "- Topic 5: education system\n",
    "- Topic 6: distribution of welfare\n",
    "- Topic 7: safety\n",
    "- Topic 8: defense\n",
    "- Topic 9: family"
   ]
  },
  {
   "cell_type": "markdown",
   "metadata": {},
   "source": [
    "## Problem 6: Monitoring a topic model for convergence"
   ]
  },
  {
   "cell_type": "markdown",
   "metadata": {},
   "source": [
    "When learning an LDA model, it is important to make sure that the training algorithm has converged to a stable posterior distribution. One way to do so is to plot, after each training epochs(or &lsquo;pass&rsquo;, in gensim parlance) the log likelihood of the training data under the posterior. Your last task in this lab is to create such a plot and, based on this, to suggest an appropriate number of epochs.\n",
    "\n",
    "To collect information about the posterior likelihood after each pass, we need to enable the logging facilities of gensim. Once this is done, gensim will add various diagnostics to a log file `gensim.log`."
   ]
  },
  {
   "cell_type": "code",
   "execution_count": 7,
   "metadata": {},
   "outputs": [],
   "source": [
    "import logging\n",
    "\n",
    "logging.basicConfig(filename=\"gensim.log\", format=\"%(asctime)s:%(levelname)s:%(message)s\", level=logging.INFO)"
   ]
  },
  {
   "cell_type": "markdown",
   "metadata": {},
   "source": [
    "The following function will parse the generated logfile and return the list of log likelihoods."
   ]
  },
  {
   "cell_type": "code",
   "execution_count": 8,
   "metadata": {},
   "outputs": [],
   "source": [
    "import re\n",
    "\n",
    "def parse_logfile():\n",
    "    matcher = re.compile(\"(-*\\d+\\.\\d+) per-word .* (\\d+\\.\\d+) perplexity\")\n",
    "    likelihoods = []\n",
    "    with open(\"gensim.log\") as source:\n",
    "        for line in source:\n",
    "            match = matcher.search(line)\n",
    "            if match:\n",
    "                likelihoods.append(float(match.group(1)))\n",
    "    return likelihoods"
   ]
  },
  {
   "cell_type": "markdown",
   "metadata": {},
   "source": [
    "Your task now is to re-train your LDA model for 50&nbsp;passes, retrieve the list of log likelihoods, and create a plot from this data."
   ]
  },
  {
   "cell_type": "code",
   "execution_count": 9,
   "metadata": {},
   "outputs": [],
   "source": [
    "model = LdaModel(corpus = corpus, id2word=id2word, num_topics = 10, passes = 50)"
   ]
  },
  {
   "cell_type": "code",
   "execution_count": 14,
   "metadata": {},
   "outputs": [
    {
     "data": {
      "image/png": "[encoded data removed]",
      "text/plain": [
       "<Figure size 432x288 with 1 Axes>"
      ]
     },
     "metadata": {
      "needs_background": "light"
     },
     "output_type": "display_data"
    }
   ],
   "source": [
    "# Plotting training data.\n",
    "plt.plot(range(1, 51), parse_logfile())\n",
    "plt.title('Log-Likelihood vs. Pass')\n",
    "plt.xlabel('Pass')\n",
    "plt.ylabel('Log-Likelihood')\n",
    "plt.show()"
   ]
  },
  {
   "cell_type": "markdown",
   "metadata": {},
   "source": [
    "How do you interpret your plot? What would be a reasonable choice for the number of passes? Retrain your LDA model with that number and re-inspect the topics it finds. Do you consider the new topics to be &lsquo;better&rsquo; than the ones that you got from the 1-pass model in Problem&nbsp;5?"
   ]
  },
  {
   "cell_type": "markdown",
   "metadata": {},
   "source": [
    "A reasonable choice would be passes = 20, because a higher choice of passes do not lead to a significant better log-likelihood. Even if the log-likelihood still improves a litte bit afterwards, the improvements are not that big anymore. Thus, for performance reasons, passes = 20 is a good choice."
   ]
  },
  {
   "cell_type": "code",
   "execution_count": 15,
   "metadata": {},
   "outputs": [],
   "source": [
    "# Retraining LDA with passes = 20.\n",
    "model = LdaModel(corpus = corpus, id2word=id2word, num_topics = 10, passes = 20)"
   ]
  },
  {
   "cell_type": "code",
   "execution_count": 16,
   "metadata": {},
   "outputs": [
    {
     "data": {
      "text/plain": [
       "[(0,\n",
       "  '0.054*\"security\" + 0.035*\"world\" + 0.034*\"peace\" + 0.030*\"united\" + 0.027*\"states\" + 0.025*\"social\" + 0.024*\"soviet\" + 0.024*\"nations\" + 0.018*\"international\" + 0.017*\"union\"'),\n",
       " (1,\n",
       "  '0.041*\"government\" + 0.029*\"people\" + 0.028*\"welfare\" + 0.025*\"work\" + 0.018*\"time\" + 0.016*\"children\" + 0.013*\"good\" + 0.013*\"america\" + 0.012*\"responsibility\" + 0.012*\"best\"'),\n",
       " (2,\n",
       "  '0.056*\"america\" + 0.040*\"world\" + 0.026*\"people\" + 0.025*\"new\" + 0.017*\"american\" + 0.016*\"americans\" + 0.015*\"freedom\" + 0.015*\"century\" + 0.015*\"trade\" + 0.013*\"years\"'),\n",
       " (3,\n",
       "  '0.048*\"budget\" + 0.043*\"years\" + 0.030*\"percent\" + 0.030*\"tax\" + 0.027*\"cut\" + 0.026*\"federal\" + 0.026*\"spending\" + 0.023*\"growth\" + 0.023*\"year\" + 0.020*\"billion\"'),\n",
       " (4,\n",
       "  '0.049*\"children\" + 0.027*\"education\" + 0.025*\"parents\" + 0.025*\"schools\" + 0.025*\"school\" + 0.023*\"help\" + 0.023*\"child\" + 0.020*\"tax\" + 0.020*\"families\" + 0.019*\"college\"'),\n",
       " (5,\n",
       "  '0.025*\"congress\" + 0.024*\"energy\" + 0.024*\"new\" + 0.021*\"programs\" + 0.021*\"administration\" + 0.020*\"federal\" + 0.019*\"program\" + 0.013*\"act\" + 0.011*\"major\" + 0.010*\"help\"'),\n",
       " (6,\n",
       "  '0.042*\"people\" + 0.030*\"congress\" + 0.028*\"year\" + 0.028*\"know\" + 0.020*\"nuclear\" + 0.019*\"right\" + 0.019*\"work\" + 0.018*\"bill\" + 0.017*\"american\" + 0.017*\"pass\"'),\n",
       " (7,\n",
       "  '0.029*\"nation\" + 0.029*\"national\" + 0.021*\"years\" + 0.016*\"year\" + 0.016*\"human\" + 0.015*\"american\" + 0.014*\"country\" + 0.013*\"policy\" + 0.013*\"new\" + 0.013*\"past\"'),\n",
       " (8,\n",
       "  '0.069*\"health\" + 0.068*\"care\" + 0.036*\"crime\" + 0.024*\"insurance\" + 0.024*\"medicare\" + 0.019*\"community\" + 0.018*\"work\" + 0.014*\"businesses\" + 0.014*\"americans\" + 0.014*\"rural\"'),\n",
       " (9,\n",
       "  '0.048*\"americans\" + 0.041*\"president\" + 0.035*\"congress\" + 0.027*\"tonight\" + 0.027*\"fellow\" + 0.023*\"responsibility\" + 0.022*\"women\" + 0.020*\"work\" + 0.020*\"ask\" + 0.020*\"citizens\"')]"
      ]
     },
     "execution_count": 16,
     "metadata": {},
     "output_type": "execute_result"
    }
   ],
   "source": [
    "model.print_topics()"
   ]
  },
  {
   "cell_type": "markdown",
   "metadata": {},
   "source": [
    "The identified topics seem to be better and easier to describe! All the topics after 20 passes seem to contribute to the description of the text, whereas with one pass there were still some words that did not describe a topic that much."
   ]
  },
  {
   "cell_type": "markdown",
   "metadata": {},
   "source": [
    "<div class=\"alert alert-info\">\n",
    "    Please read the section ‘General information’ on the ‘Labs’ page of the course website before submitting this notebook!\n",
    "</div>"
   ]
  }
 ],
 "metadata": {
  "kernelspec": {
   "display_name": "Python 3",
   "language": "python",
   "name": "python3"
  },
  "language_info": {
   "codemirror_mode": {
    "name": "ipython",
    "version": 3
   },
   "file_extension": ".py",
   "mimetype": "text/x-python",
   "name": "python",
   "nbconvert_exporter": "python",
   "pygments_lexer": "ipython3",
   "version": "3.7.1"
  }
 },
 "nbformat": 4,
 "nbformat_minor": 2
}

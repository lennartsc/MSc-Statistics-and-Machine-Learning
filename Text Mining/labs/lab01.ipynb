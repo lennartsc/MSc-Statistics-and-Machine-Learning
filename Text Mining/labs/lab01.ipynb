{
 "cells": [
  {
   "cell_type": "markdown",
   "metadata": {},
   "source": [
    "# L1: Information Retrieval"
   ]
  },
  {
   "cell_type": "markdown",
   "metadata": {},
   "source": [
    "In this lab you will apply basic techniques from information retrieval to implement the core of a minimalistic search engine. The data for this lab consists of a collection of app descriptions scraped from the [Google Play Store](https://play.google.com/store/apps?hl=en). From this collection, your search engine should retrieve those apps whose descriptions best match a given query under the vector space model."
   ]
  },
  {
   "cell_type": "markdown",
   "metadata": {},
   "source": [
    "## Data set"
   ]
  },
  {
   "cell_type": "markdown",
   "metadata": {},
   "source": [
    "The app descriptions come in the form of a compressed [JSON](https://en.wikipedia.org/wiki/JSON) file. Start by loading this file into a [Pandas](https://pandas.pydata.org) [DataFrame](https://pandas.pydata.org/pandas-docs/stable/getting_started/dsintro.html#dataframe)."
   ]
  },
  {
   "cell_type": "code",
   "execution_count": 3,
   "metadata": {},
   "outputs": [
    {
     "data": {
      "text/plain": [
       "1614"
      ]
     },
     "execution_count": 3,
     "metadata": {},
     "output_type": "execute_result"
    }
   ],
   "source": [
    "import bz2\n",
    "import pandas as pd\n",
    "\n",
    "with bz2.open(\"app-descriptions.json.bz2\") as source:\n",
    "    df = pd.read_json(source)\n",
    "    \n",
    "# Extracting number of descriptions.\n",
    "len(df)"
   ]
  },
  {
   "cell_type": "markdown",
   "metadata": {},
   "source": [
    "In Pandas, a DataFrame is a table with indexed rows and labelled columns of potentially different types. Data in a DataFrame can be accessed in various ways, including by row and by column. To give an example, the code in the next cell shows rows 200–204:"
   ]
  },
  {
   "cell_type": "code",
   "execution_count": 4,
   "metadata": {},
   "outputs": [
    {
     "data": {
      "text/html": [
       "<div>\n",
       "<style scoped>\n",
       "    .dataframe tbody tr th:only-of-type {\n",
       "        vertical-align: middle;\n",
       "    }\n",
       "\n",
       "    .dataframe tbody tr th {\n",
       "        vertical-align: top;\n",
       "    }\n",
       "\n",
       "    .dataframe thead th {\n",
       "        text-align: right;\n",
       "    }\n",
       "</style>\n",
       "<table border=\"1\" class=\"dataframe\">\n",
       "  <thead>\n",
       "    <tr style=\"text-align: right;\">\n",
       "      <th></th>\n",
       "      <th>description</th>\n",
       "      <th>name</th>\n",
       "    </tr>\n",
       "  </thead>\n",
       "  <tbody>\n",
       "    <tr>\n",
       "      <th>200</th>\n",
       "      <td>Introducing the best Brick Breaker game that e...</td>\n",
       "      <td>Brick Breaker Star: Space King</td>\n",
       "    </tr>\n",
       "    <tr>\n",
       "      <th>201</th>\n",
       "      <td>Classic Brick Game!\\n\\nBrick Classic is a popu...</td>\n",
       "      <td>Brick Classic - Brick Game</td>\n",
       "    </tr>\n",
       "    <tr>\n",
       "      <th>202</th>\n",
       "      <td>Bricks Breaker - Glow Balls is a addictive and...</td>\n",
       "      <td>Bricks Breaker - Glow Balls</td>\n",
       "    </tr>\n",
       "    <tr>\n",
       "      <th>203</th>\n",
       "      <td>How to play\\n- The ball flies to wherever you ...</td>\n",
       "      <td>Bricks Breaker Quest</td>\n",
       "    </tr>\n",
       "    <tr>\n",
       "      <th>204</th>\n",
       "      <td>Fight brave soldiers from around the globe on ...</td>\n",
       "      <td>Brothers in Arms® 3</td>\n",
       "    </tr>\n",
       "  </tbody>\n",
       "</table>\n",
       "</div>"
      ],
      "text/plain": [
       "                                           description  \\\n",
       "200  Introducing the best Brick Breaker game that e...   \n",
       "201  Classic Brick Game!\\n\\nBrick Classic is a popu...   \n",
       "202  Bricks Breaker - Glow Balls is a addictive and...   \n",
       "203  How to play\\n- The ball flies to wherever you ...   \n",
       "204  Fight brave soldiers from around the globe on ...   \n",
       "\n",
       "                               name  \n",
       "200  Brick Breaker Star: Space King  \n",
       "201      Brick Classic - Brick Game  \n",
       "202     Bricks Breaker - Glow Balls  \n",
       "203            Bricks Breaker Quest  \n",
       "204             Brothers in Arms® 3  "
      ]
     },
     "execution_count": 4,
     "metadata": {},
     "output_type": "execute_result"
    }
   ],
   "source": [
    "df[200:205]"
   ]
  },
  {
   "cell_type": "markdown",
   "metadata": {},
   "source": [
    "As you can see, there are two labelled columns: `name` (the name of the app) and `description` (a textual description). The code in the next cell shows how to acess fields from the description column."
   ]
  },
  {
   "cell_type": "code",
   "execution_count": 5,
   "metadata": {},
   "outputs": [
    {
     "data": {
      "text/plain": [
       "200    Introducing the best Brick Breaker game that e...\n",
       "201    Classic Brick Game!\\n\\nBrick Classic is a popu...\n",
       "202    Bricks Breaker - Glow Balls is a addictive and...\n",
       "203    How to play\\n- The ball flies to wherever you ...\n",
       "204    Fight brave soldiers from around the globe on ...\n",
       "Name: description, dtype: object"
      ]
     },
     "execution_count": 5,
     "metadata": {},
     "output_type": "execute_result"
    }
   ],
   "source": [
    "df[\"description\"][200:205]"
   ]
  },
  {
   "cell_type": "markdown",
   "metadata": {},
   "source": [
    "## Problem 1: Preprocessing"
   ]
  },
  {
   "cell_type": "markdown",
   "metadata": {},
   "source": [
    "Your first task is to implement a preprocessor for your search engine. In the vector space model, *preprocessing* refers to any kind of transformation that is applied before a text is vectorized. Here you can restrict yourself to a very simple preprocessing: tokenization, stop word removal, and lemmatization.\n",
    "\n",
    "To implement your preprocessor, you can use [spaCy](https://spacy.io). Make sure that you read the [Linguistic annotations](https://spacy.io/usage/spacy-101#annotations) section of the spaCy&nbsp;101; that section contains all the information that you need for this problem (and more).\n",
    "\n",
    "Implement your preprocessor by completing the skeleton code in the next cell, adding additional code as you feel necessary."
   ]
  },
  {
   "cell_type": "code",
   "execution_count": 6,
   "metadata": {},
   "outputs": [],
   "source": [
    "import spacy\n",
    " \n",
    "# Loading model. Disabling loading non-necessary model components.\n",
    "nlp = spacy.load(\"en_core_web_sm\", disable = [\"tagger\", \"parser\", \"ner\", \"textcat\"])\n",
    "\n",
    "def preprocess(text):\n",
    "    \n",
    "    # Initializing list with lemmas to be returned by function.\n",
    "    lemmas_returned = []\n",
    "    \n",
    "    # Tokenization.    \n",
    "    doc = nlp(text)\n",
    "    \n",
    "    # Appending desired lemmas of tokens to initialized list.\n",
    "    for token in doc:\n",
    "        # Considering token if it is not a stop word.\n",
    "        if token.is_stop == False:\n",
    "            # Lemmatization.\n",
    "            lemma = token.lemma_\n",
    "            # Appending lemma if it does not contain non-alphabetical characters.\n",
    "            if lemma.isalpha() == True:\n",
    "                lemmas_returned.append(lemma)\n",
    "        \n",
    "    # Returning remaining lemmas as strings.\n",
    "    return lemmas_returned"
   ]
  },
  {
   "cell_type": "markdown",
   "metadata": {},
   "source": [
    "Your implementation should conform to the following specification:\n",
    "\n",
    "<strong>preprocess</strong> (<em>text</em>)\n",
    "\n",
    "> Preprocesses given text by tokenizing it, removing any stop words, replacing each remaining token with its lemma (base form), and discarding all lemmas that contain non-alphabetical characters. Returns the list of remaining lemmas (represented as strings).\n",
    "\n",
    "**Tip:** To speed up the preprocessing, you can disable loading those spaCy components that you do not need, such as the part-of-speech tagger, parser, and named entity recognizer. See [here](https://spacy.io/usage/processing-pipelines#disabling) for more information about this."
   ]
  },
  {
   "cell_type": "markdown",
   "metadata": {},
   "source": [
    "Test your implementation by running the following cell:"
   ]
  },
  {
   "cell_type": "code",
   "execution_count": 7,
   "metadata": {},
   "outputs": [
    {
     "data": {
      "text/plain": [
       "['Apple', 'look', 'buy', 'startup', 'billion']"
      ]
     },
     "execution_count": 7,
     "metadata": {},
     "output_type": "execute_result"
    }
   ],
   "source": [
    "preprocess(\"Apple is looking at buying U.K. startup for $1 billion\")"
   ]
  },
  {
   "cell_type": "markdown",
   "metadata": {},
   "source": [
    "This should give the following output:\n"
   ]
  },
  {
   "cell_type": "raw",
   "metadata": {},
   "source": [
    "['Apple', 'look', 'buy', 'startup', 'billion']"
   ]
  },
  {
   "cell_type": "markdown",
   "metadata": {},
   "source": [
    "## Problem 2: Vectorizing"
   ]
  },
  {
   "cell_type": "markdown",
   "metadata": {},
   "source": [
    "Your next task is to vectorize the data – and more specifically, to map each app description to a tf–idf vector. For this you can use the [TfidfVectorizer](https://scikit-learn.org/stable/modules/generated/sklearn.feature_extraction.text.TfidfVectorizer.html) class from [scikit-learn](https://scikit-learn.org/stable/). Make sure to specify your preprocessor from the previous problem as the `tokenizer` &ndash; not the `preprocessor`! &ndash; for the vectorizer."
   ]
  },
  {
   "cell_type": "code",
   "execution_count": 8,
   "metadata": {},
   "outputs": [],
   "source": [
    "import numpy as np\n",
    "from sklearn.feature_extraction.text import TfidfVectorizer\n",
    "\n",
    "# Creating instance of TfidfVectorizer class. Initializing using own preprocessor function as the tokenizer.\n",
    "vectorizer = TfidfVectorizer(tokenizer = preprocess)\n",
    "\n",
    "# Learning vocabulary and tf-idf, returning term-document matrix. \n",
    "## Attributes of instance \"vectorizer\" will be adjusted.\n",
    "## Matrix will be stored in X. \n",
    "X = vectorizer.fit_transform(df[\"description\"])"
   ]
  },
  {
   "cell_type": "markdown",
   "metadata": {},
   "source": [
    "Test your implementation by running the following cell:"
   ]
  },
  {
   "cell_type": "code",
   "execution_count": 9,
   "metadata": {},
   "outputs": [
    {
     "data": {
      "text/plain": [
       "(1614, 20651)"
      ]
     },
     "execution_count": 9,
     "metadata": {},
     "output_type": "execute_result"
    }
   ],
   "source": [
    "# Printing shape of returned term-document matrix.\n",
    "# Row indices in X refer to the app descriptions; column indices refer to the terms; values are the tf-idfs.\n",
    "X.shape"
   ]
  },
  {
   "cell_type": "markdown",
   "metadata": {},
   "source": [
    "This should show the dimensions of the matrix `X` to be 1614 × 20651."
   ]
  },
  {
   "cell_type": "markdown",
   "metadata": {},
   "source": [
    "## Problem 3: Finding terms with low/high idf"
   ]
  },
  {
   "cell_type": "markdown",
   "metadata": {},
   "source": [
    "Recall that the inverse document frequency (idf) of a term is the lower the more documents from a given collection the term appears in. To get a better understanding for this concept, your next task is to write code to find out which terms have the lowest/highest idf with respect to the app descriptions.\n",
    "\n",
    "Start by sorting the terms in increasing order of idf, breaking ties by falling back on alphabetic order."
   ]
  },
  {
   "cell_type": "code",
   "execution_count": 12,
   "metadata": {},
   "outputs": [],
   "source": [
    "# Combining vocabularies and idf values in a pandas data frame.\n",
    "terms = pd.DataFrame({\"term\": vectorizer.get_feature_names(), \n",
    "                       \"idf\": vectorizer.idf_})\n",
    "\n",
    "# Sorting terms in increasing order of idf and alphabetically related to the term.\n",
    "terms = terms.sort_values(by = [\"idf\", \"term\"], ascending = [True, False])"
   ]
  },
  {
   "cell_type": "markdown",
   "metadata": {},
   "source": [
    "Now, print out the 10 terms at the top/end of the sorted list:"
   ]
  },
  {
   "cell_type": "code",
   "execution_count": 14,
   "metadata": {},
   "outputs": [
    {
     "name": "stdout",
     "output_type": "stream",
     "text": [
      "        term       idf\n",
      "16   abcsong  7.693943\n",
      "14  abcmouse  7.693943\n",
      "13      abcd  7.693943\n",
      "11      abby  7.693943\n",
      "10    abbott  7.693943\n",
      "9    abbiamo  7.693943\n",
      "6        aat  7.693943\n",
      "5       aang  7.693943\n",
      "4      aagbi  7.693943\n",
      "1         aa  7.693943\n",
      "          term       idf\n",
      "5822      game  1.296180\n",
      "11475     play  1.412611\n",
      "5184   feature  1.472359\n",
      "5573      free  1.584695\n",
      "10192      new  1.665665\n",
      "17102    world  1.781792\n",
      "15419     time  1.788581\n",
      "667        app  1.838871\n",
      "5672       fun  1.859132\n",
      "16902     well  1.872378\n"
     ]
    }
   ],
   "source": [
    "print(terms[-10:])\n",
    "print(terms[:10])"
   ]
  },
  {
   "cell_type": "markdown",
   "metadata": {},
   "source": [
    "## Problem 4: Retrieving"
   ]
  },
  {
   "cell_type": "markdown",
   "metadata": {},
   "source": [
    "To complete the search engine, your last task is to write a function that returns the most relevant app descriptions for a given query. An easy way to do solve this task is to use scikit-learn&rsquo;s [NearestNeighbors](https://scikit-learn.org/stable/modules/generated/sklearn.neighbors.NearestNeighbors.html) class. That class implements unsupervised nearest neighbours learning, and allows you to easily find a predefined number of app descriptions whose vector representations are closest in distance to the query vector."
   ]
  },
  {
   "cell_type": "code",
   "execution_count": 15,
   "metadata": {},
   "outputs": [],
   "source": [
    "from sklearn.neighbors import NearestNeighbors\n",
    "\n",
    "# Initializing class. \n",
    "## By default: n_neighbors = 5, radius = 1. \n",
    "## As a metric, we set the cosine similarity.\n",
    "neigh = NearestNeighbors(metric = \"cosine\")\n",
    "    \n",
    "# Train k-nearest-neighbor-model on X.\n",
    "## X is document-term-matrix for all descriptions and terms.\n",
    "## Query will be compared in same vector form to each description vector of the matrix.\n",
    "neigh.fit(X) \n",
    "\n",
    "def search(query):\n",
    "    \n",
    "    # Transforming query to document-term-matrix using trained vectorizer. \n",
    "    query = vectorizer.transform([query])\n",
    "    \n",
    "    # Identifying nearest 10 neighbors.\n",
    "    ## Indices of the nearest descriptions are returned.\n",
    "    idx = neigh.kneighbors(X = query, n_neighbors = 10, return_distance = False)\n",
    "    \n",
    "    # Returning subset of data frame with identified indices.\n",
    "    return df.iloc[idx[0]][\"name\"]"
   ]
  },
  {
   "cell_type": "markdown",
   "metadata": {},
   "source": [
    "Your implementation should conform to the following specification:\n",
    "\n",
    "<strong>search</strong> (<em>query</em>)\n",
    "\n",
    "> Returns the 10 app descriptions most similar (in terms of cosine similarity) to the given query as a Pandas DataFrame."
   ]
  },
  {
   "cell_type": "markdown",
   "metadata": {},
   "source": [
    "Test your implementation by running the following cell:"
   ]
  },
  {
   "cell_type": "code",
   "execution_count": 14,
   "metadata": {},
   "outputs": [
    {
     "data": {
      "text/plain": [
       "1301                               Subway Surfers\n",
       "1300                       Subway Princess Runner\n",
       "1428                        Train Conductor World\n",
       "998                No Humanity - The Hardest Game\n",
       "1394                                   Tiny Rails\n",
       "1429          Train for Animals - BabyMagica free\n",
       "1168                                         Rush\n",
       "1077                  Polar Flow – Sync & Analyze\n",
       "1286    Strava: Track Running, Cycling & Swimming\n",
       "1465              Virus War - Space Shooting Game\n",
       "Name: name, dtype: object"
      ]
     },
     "execution_count": 14,
     "metadata": {},
     "output_type": "execute_result"
    }
   ],
   "source": [
    "search(\"dodge trains\")"
   ]
  },
  {
   "cell_type": "markdown",
   "metadata": {},
   "source": [
    "The top hit in the list should be *Subway Surfers*."
   ]
  },
  {
   "cell_type": "markdown",
   "metadata": {},
   "source": [
    "## Problem 5: Keyword extraction"
   ]
  },
  {
   "cell_type": "markdown",
   "metadata": {},
   "source": [
    "A simple method for extracting salient keywords from a document is to pick the $k$ terms with the highest tf–idf value. Your last task in this lab is to implement this method. More specifically, we ask you to implement a function `keywords` that extracts keywords from a given text."
   ]
  },
  {
   "cell_type": "code",
   "execution_count": 15,
   "metadata": {},
   "outputs": [],
   "source": [
    "def keywords(text, n = 10):\n",
    "    \n",
    "    # Transforming text to document-term-matrix using trained vectorizer.\n",
    "    ## Matrix has one row (text is one document) and 20651 columns (terms) given by trained vectorizer.\n",
    "    ## Values within matrix are the tf-idf values for each term.\n",
    "    text = vectorizer.transform([text])\n",
    "\n",
    "    # Transforming data type from csr_matrix to DataFrame.\n",
    "    text = pd.DataFrame(text.toarray())\n",
    "    \n",
    "    # Transposing data frame.\n",
    "    text = text.transpose()\n",
    "    \n",
    "    # Sorting data frame according to tf–idf value in descending order.\n",
    "    text = text.sort_values(by = 0, ascending = False)\n",
    "    \n",
    "    # Subsetting top n terms.\n",
    "    text = text[:n]\n",
    "    \n",
    "    # Extracting indices of top n terms.\n",
    "    idx = text.index.tolist()\n",
    "    \n",
    "    # Returning list with n terms with the highest tf–idf value.\n",
    "    return [vectorizer.get_feature_names()[i] for i in idx]"
   ]
  },
  {
   "cell_type": "markdown",
   "metadata": {},
   "source": [
    "Your implementation should conform to the following specification:\n",
    "\n",
    "<strong>keywords</strong> (<em>text</em>, <em>n</em> = 10)\n",
    "\n",
    "> Returns a list with the $n$ (default value: 10) most salient keywords from the specified text, as measured by their tf–idf value relative to the collection of app descriptions."
   ]
  },
  {
   "cell_type": "markdown",
   "metadata": {},
   "source": [
    "Test your implementation by running the following cell:"
   ]
  },
  {
   "cell_type": "code",
   "execution_count": 16,
   "metadata": {
    "scrolled": true
   },
   "outputs": [
    {
     "name": "stdout",
     "output_type": "stream",
     "text": [
      "['train', 'railway', 'railroad', 'rail', 'chaos', 'crash', 'overcast', 'timetable', 'railyard', 'locomotive']\n"
     ]
    }
   ],
   "source": [
    "print(keywords(df[\"description\"][1428]))\n",
    "\n",
    "# The reason why our result differs slightly from the given result is that there are not exactly \n",
    "# 10 terms with the highest tf-idf value. Instead, after sorting the terms descendingly according to their tf-idf-values,\n",
    "# we could see that the 11th and 12th rank for example showed the same tf-idf-value as the 9th or 10th ranked term.\n",
    "# Thus, if we would print not the top 10 but for example the top 15, we would show all listed terms below."
   ]
  },
  {
   "cell_type": "markdown",
   "metadata": {},
   "source": [
    "This should give the following output:"
   ]
  },
  {
   "cell_type": "raw",
   "metadata": {},
   "source": [
    "['train', 'railroad', 'railway', 'rail', 'chaos', 'crash', 'tram', 'haul', 'overcast', 'railyard']"
   ]
  },
  {
   "cell_type": "markdown",
   "metadata": {},
   "source": [
    "<div class=\"alert alert-info\">\n",
    "    Please read the General information section on the lab web page before submitting this notebook!\n",
    "</div>"
   ]
  }
 ],
 "metadata": {
  "kernelspec": {
   "display_name": "Python 3",
   "language": "python",
   "name": "python3"
  },
  "language_info": {
   "codemirror_mode": {
    "name": "ipython",
    "version": 3
   },
   "file_extension": ".py",
   "mimetype": "text/x-python",
   "name": "python",
   "nbconvert_exporter": "python",
   "pygments_lexer": "ipython3",
   "version": "3.7.1"
  }
 },
 "nbformat": 4,
 "nbformat_minor": 2
}

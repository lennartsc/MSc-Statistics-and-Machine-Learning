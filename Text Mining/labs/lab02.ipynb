{
 "cells": [
  {
   "cell_type": "markdown",
   "metadata": {},
   "source": [
    "# L2: Text classification"
   ]
  },
  {
   "cell_type": "markdown",
   "metadata": {},
   "source": [
    "Text classification is the task of sorting text documents into predefined classes. The concrete problem you will be working on in this lab is the classification of texts with respect to their political affiliation. The specific texts you are going to classify are speeches held in the [Riksdag](https://www.riksdagen.se/en/), the Swedish national legislature."
   ]
  },
  {
   "cell_type": "markdown",
   "metadata": {},
   "source": [
    "## Data set"
   ]
  },
  {
   "cell_type": "markdown",
   "metadata": {},
   "source": [
    "The raw data for this lab comes from [The Riksdag’s Open Data](https://data.riksdagen.se/in-english/). We have tokenized the speeches and put them into two compressed [JSON](https://en.wikipedia.org/wiki/JSON) files:\n",
    "\n",
    "* `speeches-201718.json.bz2` (speeches from the 2017/2018 parliamentary session)\n",
    "* `speeches-201819.json.bz2` (ditto, from the 2018/2019 session)\n",
    "\n",
    "We start by loading these files into two separate data frames."
   ]
  },
  {
   "cell_type": "code",
   "execution_count": 1,
   "metadata": {},
   "outputs": [],
   "source": [
    "import pandas as pd\n",
    "import bz2\n",
    "\n",
    "with bz2.open(\"speeches-201718.json.bz2\") as source:\n",
    "    speeches_201718 = pd.read_json(source)\n",
    "\n",
    "with bz2.open(\"speeches-201819.json.bz2\") as source:\n",
    "    speeches_201819 = pd.read_json(source)"
   ]
  },
  {
   "cell_type": "markdown",
   "metadata": {},
   "source": [
    "When you inspect the two data frames, you can see that there are three labelled columns: `id` (the official speech ID), `words` (the space-separated words of the speech), and `party` (the party of the speaker, represented by its customary abbreviation)."
   ]
  },
  {
   "cell_type": "code",
   "execution_count": 2,
   "metadata": {},
   "outputs": [
    {
     "data": {
      "text/html": [
       "<div>\n",
       "<style scoped>\n",
       "    .dataframe tbody tr th:only-of-type {\n",
       "        vertical-align: middle;\n",
       "    }\n",
       "\n",
       "    .dataframe tbody tr th {\n",
       "        vertical-align: top;\n",
       "    }\n",
       "\n",
       "    .dataframe thead th {\n",
       "        text-align: right;\n",
       "    }\n",
       "</style>\n",
       "<table border=\"1\" class=\"dataframe\">\n",
       "  <thead>\n",
       "    <tr style=\"text-align: right;\">\n",
       "      <th></th>\n",
       "      <th>id</th>\n",
       "      <th>party</th>\n",
       "      <th>words</th>\n",
       "    </tr>\n",
       "  </thead>\n",
       "  <tbody>\n",
       "    <tr>\n",
       "      <th>0</th>\n",
       "      <td>H5-002-004</td>\n",
       "      <td>S</td>\n",
       "      <td>eders majestäter eders kungliga högheter herr ...</td>\n",
       "    </tr>\n",
       "    <tr>\n",
       "      <th>1</th>\n",
       "      <td>H5-003-001</td>\n",
       "      <td>V</td>\n",
       "      <td>aktuell debatt om situationen för ensamkommand...</td>\n",
       "    </tr>\n",
       "    <tr>\n",
       "      <th>2</th>\n",
       "      <td>H5-003-002</td>\n",
       "      <td>S</td>\n",
       "      <td>herr talman och ledamöter jag vill börja med a...</td>\n",
       "    </tr>\n",
       "    <tr>\n",
       "      <th>3</th>\n",
       "      <td>H5-003-003</td>\n",
       "      <td>M</td>\n",
       "      <td>herr talman åhörare den här debatten handlar a...</td>\n",
       "    </tr>\n",
       "    <tr>\n",
       "      <th>4</th>\n",
       "      <td>H5-003-004</td>\n",
       "      <td>SD</td>\n",
       "      <td>herr talman ansvar och rättssäkerhet är två or...</td>\n",
       "    </tr>\n",
       "  </tbody>\n",
       "</table>\n",
       "</div>"
      ],
      "text/plain": [
       "           id party                                              words\n",
       "0  H5-002-004     S  eders majestäter eders kungliga högheter herr ...\n",
       "1  H5-003-001     V  aktuell debatt om situationen för ensamkommand...\n",
       "2  H5-003-002     S  herr talman och ledamöter jag vill börja med a...\n",
       "3  H5-003-003     M  herr talman åhörare den här debatten handlar a...\n",
       "4  H5-003-004    SD  herr talman ansvar och rättssäkerhet är två or..."
      ]
     },
     "execution_count": 2,
     "metadata": {},
     "output_type": "execute_result"
    }
   ],
   "source": [
    "speeches_201718.head()"
   ]
  },
  {
   "cell_type": "markdown",
   "metadata": {},
   "source": [
    "Throughout the lab, we will be using the speeches from 2017/2018 as our training data, and the speeches from 2018/2019 as our test data."
   ]
  },
  {
   "cell_type": "code",
   "execution_count": 3,
   "metadata": {},
   "outputs": [],
   "source": [
    "training_data, test_data = speeches_201718, speeches_201819"
   ]
  },
  {
   "cell_type": "markdown",
   "metadata": {},
   "source": [
    "For later reference, we store the sorted list of party abbreviations."
   ]
  },
  {
   "cell_type": "code",
   "execution_count": 4,
   "metadata": {},
   "outputs": [
    {
     "name": "stdout",
     "output_type": "stream",
     "text": [
      "['C', 'KD', 'L', 'M', 'MP', 'S', 'SD', 'V']\n"
     ]
    }
   ],
   "source": [
    "parties = sorted(training_data[\"party\"].unique())\n",
    "print(parties)"
   ]
  },
  {
   "cell_type": "markdown",
   "metadata": {},
   "source": [
    "## Problem 1: Visualization"
   ]
  },
  {
   "cell_type": "markdown",
   "metadata": {},
   "source": [
    "Your first task is to get to know the data better by plotting a simple visualization.\n",
    "\n",
    "If you are not familiar with the Swedish political system and the parties represented in the Riksdag in particular, then we suggest that you have a look at the Wikipedia article about the [2018 Swedish general election](https://en.wikipedia.org/wiki/2018_Swedish_general_election).\n",
    "\n",
    "For the lab, we ask you to compare the two data frames with respect to the distribution of the speeches over the different parties. Write code to generate two bar plots that visualize this information, one for the 2017/2018 speeches and one for the 2018/2019 speeches. Inspect the two plots, and compare them\n",
    "\n",
    "* to each other\n",
    "* to the results of the 2014 and the 2018 general elections\n",
    "\n",
    "Summarize your observations in a short text in the cell below.\n",
    "\n",
    "**Tip:** If you need help with creating bar plots, [Bar Plot using Pandas](https://dfrieds.com/data-visualizations/bar-plot-python-pandas) provides a useful tutorial."
   ]
  },
  {
   "cell_type": "code",
   "execution_count": 6,
   "metadata": {},
   "outputs": [
    {
     "data": {
      "image/png": "[encoded data removed]",
      "text/plain": [
       "<Figure size 432x288 with 1 Axes>"
      ]
     },
     "metadata": {
      "needs_background": "light"
     },
     "output_type": "display_data"
    },
    {
     "data": {
      "image/png": "[encoded data removed]",
      "text/plain": [
       "<Figure size 432x288 with 1 Axes>"
      ]
     },
     "metadata": {
      "needs_background": "light"
     },
     "output_type": "display_data"
    }
   ],
   "source": [
    "import matplotlib.pyplot as plt\n",
    "\n",
    "# Plotting training data.\n",
    "plt.bar(x = training_data['party'].value_counts().index, \n",
    "        height = speeches_201718['party'].value_counts(),\n",
    "        color = ['black', 'red', 'green', 'blue', 'cyan', 'yellow', 'orange', 'grey'])\n",
    "plt.title('Training data')\n",
    "plt.xlabel('Party')\n",
    "plt.ylabel('# speeches')\n",
    "plt.show()\n",
    "\n",
    "# PLotting test data.\n",
    "plt.bar(x = test_data['party'].value_counts().index, \n",
    "        height = speeches_201718['party'].value_counts(),\n",
    "        color = ['black', 'red', 'green', 'blue', 'cyan', 'yellow', 'orange', 'grey'])\n",
    "plt.title('Test data')\n",
    "plt.xlabel('Party')\n",
    "plt.ylabel('# speeches')\n",
    "plt.show()"
   ]
  },
  {
   "cell_type": "code",
   "execution_count": 7,
   "metadata": {},
   "outputs": [
    {
     "data": {
      "text/html": [
       "<div>\n",
       "<style scoped>\n",
       "    .dataframe tbody tr th:only-of-type {\n",
       "        vertical-align: middle;\n",
       "    }\n",
       "\n",
       "    .dataframe tbody tr th {\n",
       "        vertical-align: top;\n",
       "    }\n",
       "\n",
       "    .dataframe thead th {\n",
       "        text-align: right;\n",
       "    }\n",
       "</style>\n",
       "<table border=\"1\" class=\"dataframe\">\n",
       "  <thead>\n",
       "    <tr style=\"text-align: right;\">\n",
       "      <th></th>\n",
       "      <th>2014</th>\n",
       "      <th>2018</th>\n",
       "    </tr>\n",
       "  </thead>\n",
       "  <tbody>\n",
       "    <tr>\n",
       "      <th>S</th>\n",
       "      <td>31.01</td>\n",
       "      <td>28.26</td>\n",
       "    </tr>\n",
       "    <tr>\n",
       "      <th>M</th>\n",
       "      <td>23.33</td>\n",
       "      <td>19.84</td>\n",
       "    </tr>\n",
       "    <tr>\n",
       "      <th>SD</th>\n",
       "      <td>12.86</td>\n",
       "      <td>17.53</td>\n",
       "    </tr>\n",
       "    <tr>\n",
       "      <th>MP</th>\n",
       "      <td>6.89</td>\n",
       "      <td>4.41</td>\n",
       "    </tr>\n",
       "    <tr>\n",
       "      <th>C</th>\n",
       "      <td>6.11</td>\n",
       "      <td>8.61</td>\n",
       "    </tr>\n",
       "    <tr>\n",
       "      <th>V</th>\n",
       "      <td>5.72</td>\n",
       "      <td>8.00</td>\n",
       "    </tr>\n",
       "    <tr>\n",
       "      <th>FP/L</th>\n",
       "      <td>5.42</td>\n",
       "      <td>5.49</td>\n",
       "    </tr>\n",
       "    <tr>\n",
       "      <th>KD</th>\n",
       "      <td>4.57</td>\n",
       "      <td>6.32</td>\n",
       "    </tr>\n",
       "  </tbody>\n",
       "</table>\n",
       "</div>"
      ],
      "text/plain": [
       "       2014   2018\n",
       "S     31.01  28.26\n",
       "M     23.33  19.84\n",
       "SD    12.86  17.53\n",
       "MP     6.89   4.41\n",
       "C      6.11   8.61\n",
       "V      5.72   8.00\n",
       "FP/L   5.42   5.49\n",
       "KD     4.57   6.32"
      ]
     },
     "execution_count": 7,
     "metadata": {},
     "output_type": "execute_result"
    }
   ],
   "source": [
    "# Printing election results from 2014 and 2018.\n",
    "pd.DataFrame({\"2014\" : [31.01, 23.33, 12.86, 6.89, 6.11, 5.72, 5.42, 4.57],\n",
    "              \"2018\" : [28.26, 19.84, 17.53, 4.41, 8.61, 8.00, 5.49, 6.32]},\n",
    "             index = [\"S\", \"M\", \"SD\", \"MP\", \"C\", \"V\", \"FP/L\", \"KD\"])"
   ]
  },
  {
   "cell_type": "markdown",
   "metadata": {},
   "source": [
    "In general, in 2017/2018 the total number of speeches was higher. Parties S and M in both years gave the 1st and 2nd most number of speeches. Party L is always the party with the least speeches.\n",
    "From the 2014 election results we can see that the largest two parties S and M are also the parties that held the most speeches, same goes for the 2018 election."
   ]
  },
  {
   "cell_type": "markdown",
   "metadata": {},
   "source": [
    "## Problem 2: Naive Bayes classifier"
   ]
  },
  {
   "cell_type": "markdown",
   "metadata": {},
   "source": [
    "You are now ready to train and evaluate a classifier. More specifically, we ask you to train a [Multinomial Naive Bayes](https://scikit-learn.org/stable/modules/naive_bayes.html#multinomial-naive-bayes) classifier. You will have to\n",
    "\n",
    "1. vectorize the speeches in the training data\n",
    "2. instantiate and fit the Naive Bayes model\n",
    "3. evaluate the model on the test data\n",
    "\n",
    "The scikit-learn library provides a convenience class [Pipeline](https://scikit-learn.org/stable/modules/generated/sklearn.pipeline.Pipeline.html) that allows you to solve the first two tasks with very compact code. For the evaluation you can use the function [`classification_report`](https://scikit-learn.org/stable/modules/generated/sklearn.metrics.classification_report.html), which will report per-class precision, recall and F1, as well as overall accuracy."
   ]
  },
  {
   "cell_type": "code",
   "execution_count": 5,
   "metadata": {},
   "outputs": [
    {
     "name": "stdout",
     "output_type": "stream",
     "text": [
      "              precision    recall  f1-score   support\n",
      "\n",
      "           C       0.63      0.04      0.07       671\n",
      "          KD       0.70      0.02      0.03       821\n",
      "           L       0.92      0.02      0.04       560\n",
      "           M       0.36      0.68      0.47      1644\n",
      "          MP       0.36      0.25      0.29       809\n",
      "           S       0.46      0.84      0.59      2773\n",
      "          SD       0.57      0.12      0.20      1060\n",
      "           V       0.59      0.15      0.24       950\n",
      "\n",
      "   micro avg       0.43      0.43      0.43      9288\n",
      "   macro avg       0.57      0.26      0.24      9288\n",
      "weighted avg       0.52      0.43      0.34      9288\n",
      "\n"
     ]
    }
   ],
   "source": [
    "# Instantiate pipeline.\n",
    "from sklearn.pipeline import make_pipeline\n",
    "from sklearn.naive_bayes import MultinomialNB\n",
    "from sklearn.feature_extraction.text import CountVectorizer\n",
    "nb_pipeline = make_pipeline(CountVectorizer(), # Vectorizing speeches in training data. \n",
    "                            MultinomialNB()) # Training Multinomial Naive Bayes classifier.\n",
    "\n",
    "# Using pipeline to train naive bayes classifier on training data.\n",
    "nb_classifier = nb_pipeline.fit(training_data[\"words\"], training_data[\"party\"])  \n",
    "\n",
    "# Evaluating model on test data.\n",
    "test_predictions = nb_classifier.predict(test_data[\"words\"])\n",
    "from sklearn.metrics import classification_report\n",
    "print(classification_report(test_data[\"party\"], test_predictions))"
   ]
  },
  {
   "cell_type": "markdown",
   "metadata": {},
   "source": [
    "Would you have expected the results that you got?"
   ]
  },
  {
   "cell_type": "markdown",
   "metadata": {},
   "source": [
    "We would have expected to get a similar result. The overall classififer's accuracy is 43%. Since there are eight different class values, it is not easy to always predict the correct class. The Naive Bayes classifier assumes the features to be independet of each other which is a naive assumption. To assess the accuracy, we need to compare it to the accuracy of other classifiers, thouhgh."
   ]
  },
  {
   "cell_type": "markdown",
   "metadata": {},
   "source": [
    "## Problem 3: Baseline"
   ]
  },
  {
   "cell_type": "markdown",
   "metadata": {},
   "source": [
    "Evaluation metrics such as accuracy should not be understood as absolute measures of performance, but should be used only to compare different classifiers. When other classifiers are not available, a simple baseline for text classification is **Most Frequent Class (MFC)**. One way to think of this baseline is as a classifier that, for every document, predicts that class which appears most often in the training data.\n",
    "\n",
    "Determine the most frequent class in the 2017/2018 data. What is the accuracy of the MFC baseline on the test data? Given this baseline accuracy, how do you assess the results of the Naive Bayes classifier from Problem&nbsp;2? Answer with a short text."
   ]
  },
  {
   "cell_type": "code",
   "execution_count": 6,
   "metadata": {},
   "outputs": [
    {
     "name": "stdout",
     "output_type": "stream",
     "text": [
      "S     4261\n",
      "M     2370\n",
      "MP    1481\n",
      "SD    1010\n",
      "V      894\n",
      "C      865\n",
      "KD     743\n",
      "L      719\n",
      "Name: party, dtype: int64\n",
      "              precision    recall  f1-score   support\n",
      "\n",
      "           C       0.00      0.00      0.00       671\n",
      "          KD       0.00      0.00      0.00       821\n",
      "           L       0.00      0.00      0.00       560\n",
      "           M       0.00      0.00      0.00      1644\n",
      "          MP       0.00      0.00      0.00       809\n",
      "           S       0.30      1.00      0.46      2773\n",
      "          SD       0.00      0.00      0.00      1060\n",
      "           V       0.00      0.00      0.00       950\n",
      "\n",
      "   micro avg       0.30      0.30      0.30      9288\n",
      "   macro avg       0.04      0.12      0.06      9288\n",
      "weighted avg       0.09      0.30      0.14      9288\n",
      "\n"
     ]
    },
    {
     "name": "stderr",
     "output_type": "stream",
     "text": [
      "C:\\Users\\Lennart\\Anaconda3\\lib\\site-packages\\sklearn\\metrics\\classification.py:1143: UndefinedMetricWarning: Precision and F-score are ill-defined and being set to 0.0 in labels with no predicted samples.\n",
      "  'precision', 'predicted', average, warn_for)\n"
     ]
    }
   ],
   "source": [
    "# Identifying most frequent class within training data.\n",
    "print(training_data[\"party\"].value_counts())\n",
    "'''It follows that the most frequent class within the training data is class \"S\", as it also could be seen already in the \n",
    "plot above.'''\n",
    "\n",
    "# Computing accuracy of predictions for test data using always most Frequent Class as the prediction.\n",
    "import numpy as np\n",
    "print(classification_report(test_data[\"party\"], np.repeat(\"S\", len(test_data))))"
   ]
  },
  {
   "cell_type": "markdown",
   "metadata": {},
   "source": [
    "The obtained overall accurary is 30%, so it's much lower than the accuracy of the Naive Bayes classifier. However, the classififer of course only predits the class \"S\" to every input. Thus, for all speeches to be classified that are not from the party \"S\", the accuracy is 0%. As a consequence, the Naive Bayes classifier performs better."
   ]
  },
  {
   "cell_type": "markdown",
   "metadata": {},
   "source": [
    "## Problem 4: Creating a balanced data set"
   ]
  },
  {
   "cell_type": "markdown",
   "metadata": {},
   "source": [
    "As you saw in Problem&nbsp;1, the distribution of the speeches over the eight different parties (classes) is imbalanced. One technique used to alleviate this is **undersampling**, in which one randomly removes samples from over-represented classes until all classes are represented with the same number of samples.\n",
    "\n",
    "Implement undersampling to create a balanced subset of the training data. Rerun the evaluation from Problem&nbsp;2 on the balanced data and compare the results. Discuss your findings in a short text. Would you argue that undersampling make sense for the task of predicting the party of a speaker?\n",
    "\n",
    "**Hint:** Your balanced subset should consist of 5,752 speeches."
   ]
  },
  {
   "cell_type": "code",
   "execution_count": 20,
   "metadata": {},
   "outputs": [
    {
     "name": "stdout",
     "output_type": "stream",
     "text": [
      "Number of speeches for balanced data: 5752\n",
      "              precision    recall  f1-score   support\n",
      "\n",
      "           C       0.26      0.45      0.33       671\n",
      "          KD       0.29      0.38      0.33       821\n",
      "           L       0.28      0.43      0.34       560\n",
      "           M       0.41      0.48      0.44      1644\n",
      "          MP       0.34      0.40      0.37       809\n",
      "           S       0.80      0.28      0.41      2773\n",
      "          SD       0.45      0.40      0.42      1060\n",
      "           V       0.37      0.56      0.45       950\n",
      "\n",
      "   micro avg       0.40      0.40      0.40      9288\n",
      "   macro avg       0.40      0.42      0.39      9288\n",
      "weighted avg       0.49      0.40      0.40      9288\n",
      "\n"
     ]
    }
   ],
   "source": [
    "# Performing undersampling.\n",
    "## Identifying number of samples for each party so that training data would be balanced over parties. \n",
    "n_samples_desired = training_data['party'].value_counts().min()\n",
    "## Initializing empty data frame.\n",
    "training_data_balanced = pd.DataFrame()\n",
    "## Sampling training data for each party and append sampled data to initialized data frame.\n",
    "for party in training_data['party'].unique():\n",
    "    # Subsetting part of training data referring to the party.\n",
    "    train_party = training_data[training_data.party == party]\n",
    "    # Sampling n_samples_desired times from subset without replacement.\n",
    "    train_party = train_party.sample(n = n_samples_desired, replace = False)\n",
    "    # Appending sampled training data of specific party to initialized data frame.\n",
    "    training_data_balanced = training_data_balanced.append(train_party)\n",
    "## Checking number of rows of balanced training data.\n",
    "print(\"Number of speeches for balanced data: \" + str(len(training_data_balanced)))\n",
    "\n",
    "# Redoing process from Problem 2 on balanced data.\n",
    "## Using pipeline from Problem 2 to train naive bayes classifier on balanced data.\n",
    "nb_classifier = nb_pipeline.fit(training_data_balanced[\"words\"], training_data_balanced[\"party\"])  \n",
    "# Evaluating model on test data.\n",
    "test_predictions = nb_classifier.predict(test_data[\"words\"])\n",
    "print(classification_report(test_data[\"party\"], test_predictions))"
   ]
  },
  {
   "cell_type": "markdown",
   "metadata": {},
   "source": [
    "The overall accuracy (now 40%) decreased compared to the accuracy in Problem 2. Thus, the new classifier which has been built on the balanced training dataset performs worse compared to before. The reason might be that the amount of training data has been decreased a lot."
   ]
  },
  {
   "cell_type": "markdown",
   "metadata": {},
   "source": [
    "## Problem 5: Confusion matrix"
   ]
  },
  {
   "cell_type": "markdown",
   "metadata": {},
   "source": [
    "A **confusion matrix** is a specific table layout that is useful when analysing the performance of a classifier. In this matrix, both the rows and the columns correspond to classes, and each cell $(i, j)$ states how many times a sample with gold-standard class $i$ was predicted as belonging to class $j$.\n",
    "\n",
    "In scitkit-learn, the confusion matrix of a classifier is computed by the function [`confusion_matrix`](https://scikit-learn.org/stable/modules/generated/sklearn.metrics.confusion_matrix.html).\n",
    "\n",
    "Your task is to use the confusion matrix to find, for each given party $p$ in the Riksdag, that other party $p'$ which the classifier that you trained in Problem&nbsp;4 most often confuses $p$ with when it predicts the party of a speaker."
   ]
  },
  {
   "cell_type": "code",
   "execution_count": 21,
   "metadata": {},
   "outputs": [
    {
     "name": "stdout",
     "output_type": "stream",
     "text": [
      "      C   KD    L    M   MP    S   SD    V\n",
      "C   303   69   42   97   47   13   44   56\n",
      "KD   95  312   58  165   31   25   56   79\n",
      "L    59   48  240   70   23   16   35   69\n",
      "M   229  176  127  787   73   33  105  114\n",
      "MP   64   55   58   98  321   73   43   97\n",
      "S   248  228  168  460  349  772  177  371\n",
      "SD  106  103  108  144   40   17  426  116\n",
      "V    59   71   59  109   47   12   59  534\n"
     ]
    }
   ],
   "source": [
    "from sklearn.metrics import confusion_matrix\n",
    "confusion_matrix_df = pd.DataFrame(confusion_matrix(y_true = test_data[\"party\"], \n",
    "                                                    y_pred = test_predictions),\n",
    "                                   index = parties, \n",
    "                                   columns = parties)\n",
    "print(confusion_matrix_df)"
   ]
  },
  {
   "cell_type": "markdown",
   "metadata": {},
   "source": [
    "We use index and columns according to the sorted parties, because we did not specify labels within confusion_matrix().\n",
    "Within the description of the label parameter for the function confusion_matri(), it says the following: \n",
    "\"If none is given, those that appear at least once  in y_true or y_pred are used in sorted order.\n",
    "\n",
    "The left lables refer to the true values, the labels on top refer to the predictions.\n",
    "\n",
    "Our goal is to find for each party the other party that most have been predicted instead of the true party by our classifer.\n",
    "Thus, for each party, we need to find the other party with the maximum number of predictions which is not the party itself.\n",
    "We achieve this by finding the maximum value for each row which does not correspond the true party itself.\n",
    "First, we set the diagonal of the confusion matrix to zero so that the true class is considered in our analysis.\n",
    "Afterwards, rowwise, we are looking for the maximum value. The corresponding column name then is the party we are looking for."
   ]
  },
  {
   "cell_type": "code",
   "execution_count": 22,
   "metadata": {},
   "outputs": [
    {
     "data": {
      "text/plain": [
       "C     M\n",
       "KD    M\n",
       "L     M\n",
       "M     C\n",
       "MP    M\n",
       "S     M\n",
       "SD    M\n",
       "V     M\n",
       "dtype: object"
      ]
     },
     "execution_count": 22,
     "metadata": {},
     "output_type": "execute_result"
    }
   ],
   "source": [
    "# Setting diagonal of confusion matrix to zero.\n",
    "for i in range(len(confusion_matrix_df)):\n",
    "    confusion_matrix_df.iloc[i, i] = 0\n",
    "\n",
    "# Row-wise identfying label of maximum value.\n",
    "confusion_matrix_df.idxmax(axis = \"columns\")"
   ]
  },
  {
   "cell_type": "markdown",
   "metadata": {},
   "source": [
    "## Problem 6: Grid search"
   ]
  },
  {
   "cell_type": "markdown",
   "metadata": {},
   "source": [
    "Until now, you have been using the vectorizer and the Naive Bayes classifier with their default hyperparameters. When working with real-world applications, you would want to find settings for the hyperparameters that maximize the performance for the task at hand.\n",
    "\n",
    "Manually tweaking the hyperparameters of the various components of a vectorizer–classifier pipeline can be cumbersome. However, scikit-learn makes it possible to run an exhaustive search for the best hyperparameters over a grid of possible values. This method is known as **grid search**.\n",
    "\n",
    "The hyperparameters of a pipeline should never be tuned on the final test set. (Why would that be a bad idea?) Instead, one should either use a separate validation set, or run cross-validation over different folds. Here we will use cross-validation.\n",
    "\n",
    "Implement a grid search with 5-fold cross-validation to find the optimal parameters in a grid defined by the following choices for the hyperparameters:\n",
    "\n",
    "* In the vectorizer, try a set-of-words model instead of the default bag-of-words model (two possible parameter values).\n",
    "* Also in the vectorizer, try extracting $n$-grams up to $n = 2$ (two possible parameter values).\n",
    "* In the Naive Bayes classifier, try using additive smoothing with $\\alpha \\in \\{1, 0{.}1\\}$ (two possible parameter values).\n",
    "\n",
    "Use the class [GridSearchCV](https://scikit-learn.org/stable/modules/generated/sklearn.model_selection.GridSearchCV.html) from the scikit-learn library. Print the results of your best model, along with the parameter values that yielded these results."
   ]
  },
  {
   "cell_type": "code",
   "execution_count": 26,
   "metadata": {},
   "outputs": [
    {
     "data": {
      "text/plain": [
       "GridSearchCV(cv=5, error_score='raise-deprecating',\n",
       "       estimator=Pipeline(memory=None,\n",
       "     steps=[('vect', CountVectorizer(analyzer='word', binary=False, decode_error='strict',\n",
       "        dtype=<class 'numpy.int64'>, encoding='utf-8', input='content',\n",
       "        lowercase=True, max_df=1.0, max_features=None, min_df=1,\n",
       "        ngram_range=(1, 1), preprocessor=None, stop_words=None,\n",
       "        strip_accents=None, token_pattern='(?u)\\\\b\\\\w\\\\w+\\\\b',\n",
       "        tokenizer=None, vocabulary=None)), ('clf', MultinomialNB(alpha=1.0, class_prior=None, fit_prior=True))]),\n",
       "       fit_params=None, iid=False, n_jobs=-1,\n",
       "       param_grid={'vect__binary': (True, False)}, pre_dispatch='2*n_jobs',\n",
       "       refit=True, return_train_score='warn', scoring=None, verbose=0)"
      ]
     },
     "execution_count": 26,
     "metadata": {},
     "output_type": "execute_result"
    }
   ],
   "source": [
    "# Redefining pipeline by including names for each pipeline-step.\n",
    "from sklearn.pipeline import make_pipeline\n",
    "from sklearn.naive_bayes import MultinomialNB\n",
    "from sklearn.feature_extraction.text import CountVectorizer\n",
    "from sklearn.pipeline import Pipeline\n",
    "nb_pipeline = Pipeline([('vect', CountVectorizer()), # Vectorizing speeches in training data. \n",
    "                        ('clf', MultinomialNB())]) # Training Multinomial Naive Bayes classifier.\n",
    "\n",
    "# Defining parameters to loop over. Names connected to name of pipeline-step.\n",
    "parameters = {'vect__binary': (True, False)}#, # refers to binary-parameter of CountVectorizer().\n",
    "              #'vect__ngram_range': [(1, 1), (1, 2)], # refers to ngram-parameter of CountVectorizer().\n",
    "              #'clf__alpha': (1, 0.1)} # refers to alpha-parameter of MultinomialNB().\n",
    "\n",
    "# Creating GridSearch-instance.\n",
    "from sklearn.model_selection import GridSearchCV\n",
    "gs_nb_classifier = GridSearchCV(nb_pipeline, # Defined pipeline.\n",
    "                                parameters, # Specified parameters.\n",
    "                                cv = 5, # Number of folds.\n",
    "                                iid = False, \n",
    "                                n_jobs = -1) # Grid search will detect how many cores are installed and use them all.\n",
    "\n",
    "# Training classifier for each parameter setting.\n",
    "gs_nb_classifier = gs_nb_classifier.fit(training_data[\"words\"], training_data[\"party\"])\n",
    "\n",
    "# Evaluating model on training data.\n",
    "gs_nb_classifier"
   ]
  },
  {
   "cell_type": "code",
   "execution_count": 38,
   "metadata": {},
   "outputs": [
    {
     "data": {
      "text/plain": [
       "0.5065151150080454"
      ]
     },
     "execution_count": 38,
     "metadata": {},
     "output_type": "execute_result"
    }
   ],
   "source": [
    "gs_nb_classifier.best_score_"
   ]
  },
  {
   "cell_type": "code",
   "execution_count": 39,
   "metadata": {},
   "outputs": [],
   "source": [
    "gs_nb_classifier.best_params_\n",
    "train_pred = gs_nb_classifier.predict(training_data[\"words\"])\n",
    "test_pred = gs_nb_classifier.predict(test_data[\"words\"])"
   ]
  },
  {
   "cell_type": "code",
   "execution_count": 40,
   "metadata": {},
   "outputs": [
    {
     "name": "stdout",
     "output_type": "stream",
     "text": [
      "              precision    recall  f1-score   support\n",
      "\n",
      "           C       0.98      0.45      0.62       865\n",
      "          KD       0.98      0.33      0.49       743\n",
      "           L       1.00      0.36      0.53       719\n",
      "           M       0.62      0.95      0.75      2370\n",
      "          MP       0.89      0.64      0.74      1481\n",
      "           S       0.74      0.96      0.84      4261\n",
      "          SD       0.96      0.59      0.73      1010\n",
      "           V       0.95      0.66      0.78       894\n",
      "\n",
      "   micro avg       0.76      0.76      0.76     12343\n",
      "   macro avg       0.89      0.62      0.69     12343\n",
      "weighted avg       0.82      0.76      0.74     12343\n",
      "\n",
      "              precision    recall  f1-score   support\n",
      "\n",
      "           C       0.63      0.04      0.07       671\n",
      "          KD       0.70      0.02      0.03       821\n",
      "           L       0.92      0.02      0.04       560\n",
      "           M       0.36      0.68      0.47      1644\n",
      "          MP       0.36      0.25      0.29       809\n",
      "           S       0.46      0.84      0.59      2773\n",
      "          SD       0.57      0.12      0.20      1060\n",
      "           V       0.59      0.15      0.24       950\n",
      "\n",
      "   micro avg       0.43      0.43      0.43      9288\n",
      "   macro avg       0.57      0.26      0.24      9288\n",
      "weighted avg       0.52      0.43      0.34      9288\n",
      "\n"
     ]
    }
   ],
   "source": [
    "from sklearn.metrics import classification_report\n",
    "print(classification_report(training_data[\"party\"], train_pred))\n",
    "print(classification_report(test_data[\"party\"], test_pred))"
   ]
  },
  {
   "cell_type": "markdown",
   "metadata": {},
   "source": [
    "## Problem 6: Try to improve your results"
   ]
  },
  {
   "cell_type": "markdown",
   "metadata": {},
   "source": [
    "Scikit-learn makes it easy to test different vectorizer–classifier pipelines – among other things, it includes different types of logistic regression classifiers, support vector machines, and decision trees. Browse the library to see which methods are supported.\n",
    "\n",
    "Build a pipeline that you find interesting, and use grid search to find optimal settings for the hyperparameters. Print the results of your best model. Did you manage to get better results than the ones that you obtained in Problem&nbsp;5? Answer with a short text."
   ]
  },
  {
   "cell_type": "code",
   "execution_count": 8,
   "metadata": {},
   "outputs": [
    {
     "name": "stdout",
     "output_type": "stream",
     "text": [
      "{'clf__criterion': 'gini'}\n",
      "0.42185426473048004\n"
     ]
    }
   ],
   "source": [
    "from sklearn import tree\n",
    "from sklearn.model_selection import GridSearchCV\n",
    "from sklearn.pipeline import Pipeline\n",
    "# Redefining pipeline by including names for each pipeline-step.\n",
    "dt_pipeline = Pipeline([('vect', CountVectorizer()), # Vectorizing speeches in training data. \n",
    "                        ('clf', tree.DecisionTreeClassifier())]) # Training decision tree classifier.\n",
    "\n",
    "# Defining parameters to loop over. Names connected to name of pipeline-step.\n",
    "parameters = {'clf__criterion': ('gini','entropy')} # refers to criterion-parameter of DecisionTreeClassifier()().\n",
    "\n",
    "# Creating GridSearch-instance.\n",
    "gs_dt_classifier = GridSearchCV(dt_pipeline, # Defined pipeline.\n",
    "                                parameters, # Specified parameters.\n",
    "                                cv = 5, # Number of folds .\n",
    "                                iid = False, \n",
    "                                n_jobs = -1) # Grid search will detect how many cores are installed and use them all.\n",
    "\n",
    "# Training classifier for each parameter setting.\n",
    "gs_dt_classifier = gs_dt_classifier.fit(training_data[\"words\"], training_data[\"party\"])\n",
    "\n",
    "# Evaluating model on training data.\n",
    "print(gs_dt_classifier.best_params_)\n",
    "print(gs_dt_classifier.best_score_)"
   ]
  },
  {
   "cell_type": "markdown",
   "metadata": {},
   "source": [
    "As it can be seen, the best accuracy obtained is only around 42% which is less than the accuracy obtained by the Naive Bayes classifier from before. Thus, this decision tree classifier did not manage to get better results."
   ]
  },
  {
   "cell_type": "markdown",
   "metadata": {},
   "source": [
    "<div class=\"alert alert-info\">\n",
    "    Please read the section ‘General information’ on the ‘Labs’ page of the course website before submitting this notebook!\n",
    "</div>"
   ]
  }
 ],
 "metadata": {
  "kernelspec": {
   "display_name": "Python 3",
   "language": "python",
   "name": "python3"
  },
  "language_info": {
   "codemirror_mode": {
    "name": "ipython",
    "version": 3
   },
   "file_extension": ".py",
   "mimetype": "text/x-python",
   "name": "python",
   "nbconvert_exporter": "python",
   "pygments_lexer": "ipython3",
   "version": "3.7.1"
  }
 },
 "nbformat": 4,
 "nbformat_minor": 2
}

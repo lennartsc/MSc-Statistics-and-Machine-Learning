{
 "cells": [
  {
   "cell_type": "markdown",
   "metadata": {},
   "source": [
    "# L5: Information extraction"
   ]
  },
  {
   "cell_type": "markdown",
   "metadata": {},
   "source": [
    "Information extraction (IE) is the task of identifying named entities and semantic relations between these entities in text data. In this lab we will focus on two sub-tasks in IE, **named entity recognition** (identifying mentions of entities) and **entity linking** (matching these mentions to entities in a knowledge base)."
   ]
  },
  {
   "cell_type": "markdown",
   "metadata": {},
   "source": [
    "We start by loading spaCy:"
   ]
  },
  {
   "cell_type": "code",
   "execution_count": 54,
   "metadata": {},
   "outputs": [],
   "source": [
    "import spacy\n",
    "\n",
    "nlp = spacy.load(\"en_core_web_sm\")"
   ]
  },
  {
   "cell_type": "markdown",
   "metadata": {},
   "source": [
    "The data that we will be using has been tokenized following the conventions of the [Penn Treebank](ftp://ftp.cis.upenn.edu/pub/treebank/public_html/tokenization.html), and we need to prevent spaCy from using its own tokenizer on top of this. We therefore override spaCy&rsquo;s tokenizer with one that simply splits on space."
   ]
  },
  {
   "cell_type": "code",
   "execution_count": 1,
   "metadata": {},
   "outputs": [
    {
     "ename": "NameError",
     "evalue": "name 'nlp' is not defined",
     "output_type": "error",
     "traceback": [
      "\u001b[1;31m---------------------------------------------------------------------------\u001b[0m",
      "\u001b[1;31mNameError\u001b[0m                                 Traceback (most recent call last)",
      "\u001b[1;32m<ipython-input-1-1495c5cb0fdf>\u001b[0m in \u001b[0;36m<module>\u001b[1;34m\u001b[0m\n\u001b[0;32m      8\u001b[0m         \u001b[1;32mreturn\u001b[0m \u001b[0mDoc\u001b[0m\u001b[1;33m(\u001b[0m\u001b[0mself\u001b[0m\u001b[1;33m.\u001b[0m\u001b[0mvocab\u001b[0m\u001b[1;33m,\u001b[0m \u001b[0mwords\u001b[0m\u001b[1;33m=\u001b[0m\u001b[0mtext\u001b[0m\u001b[1;33m.\u001b[0m\u001b[0msplit\u001b[0m\u001b[1;33m(\u001b[0m\u001b[1;34m\" \"\u001b[0m\u001b[1;33m)\u001b[0m\u001b[1;33m)\u001b[0m\u001b[1;33m\u001b[0m\u001b[1;33m\u001b[0m\u001b[0m\n\u001b[0;32m      9\u001b[0m \u001b[1;33m\u001b[0m\u001b[0m\n\u001b[1;32m---> 10\u001b[1;33m \u001b[0mnlp\u001b[0m\u001b[1;33m.\u001b[0m\u001b[0mtokenizer\u001b[0m \u001b[1;33m=\u001b[0m \u001b[0mWhitespaceTokenizer\u001b[0m\u001b[1;33m(\u001b[0m\u001b[0mnlp\u001b[0m\u001b[1;33m.\u001b[0m\u001b[0mvocab\u001b[0m\u001b[1;33m)\u001b[0m\u001b[1;33m\u001b[0m\u001b[1;33m\u001b[0m\u001b[0m\n\u001b[0m",
      "\u001b[1;31mNameError\u001b[0m: name 'nlp' is not defined"
     ]
    }
   ],
   "source": [
    "from spacy.tokens import Doc\n",
    "\n",
    "class WhitespaceTokenizer(object):\n",
    "    def __init__(self, vocab):\n",
    "        self.vocab = vocab\n",
    "\n",
    "    def __call__(self, text):\n",
    "        return Doc(self.vocab, words=text.split(\" \"))\n",
    "\n",
    "nlp.tokenizer = WhitespaceTokenizer(nlp.vocab)"
   ]
  },
  {
   "cell_type": "markdown",
   "metadata": {},
   "source": [
    "## Data set"
   ]
  },
  {
   "cell_type": "markdown",
   "metadata": {},
   "source": [
    "The main data set for this lab is a collection of news wire articles in which mentions of named entities have been annotated with page names from the [English Wikipedia](https://en.wikipedia.org/wiki/). The next code cell loads the training and the development parts of the data into Pandas data frames."
   ]
  },
  {
   "cell_type": "code",
   "execution_count": 56,
   "metadata": {},
   "outputs": [],
   "source": [
    "import bz2\n",
    "import csv\n",
    "import pandas as pd\n",
    "\n",
    "with bz2.open(\"ner-train.tsv.bz2\", 'rt', encoding = \"utf8\") as source:\n",
    "    df_train = pd.read_csv(source, sep='\\t', quoting=csv.QUOTE_NONE)\n",
    "\n",
    "with bz2.open(\"ner-dev.tsv.bz2\", 'rt', encoding = \"utf8\") as source:\n",
    "    df_dev = pd.read_csv(source, sep='\\t', quoting=csv.QUOTE_NONE)"
   ]
  },
  {
   "cell_type": "markdown",
   "metadata": {},
   "source": [
    "Each row in these two data frames corresponds to one mention of a named entity and has five columns:\n",
    "\n",
    "1. a unique identifier for the sentence containing the entity mention\n",
    "2. the pre-tokenized sentence, with tokens separated by spaces\n",
    "3. the start position of the token span containing the entity mention\n",
    "4. the end position of the token span (exclusive, as in Python list indexing)\n",
    "5. the entity label; either a Wikipedia page name or the generic label `--NME--`\n",
    "\n",
    "The following cell prints the first five samples from the training data:"
   ]
  },
  {
   "cell_type": "code",
   "execution_count": 57,
   "metadata": {},
   "outputs": [
    {
     "data": {
      "text/html": [
       "<div>\n",
       "<style scoped>\n",
       "    .dataframe tbody tr th:only-of-type {\n",
       "        vertical-align: middle;\n",
       "    }\n",
       "\n",
       "    .dataframe tbody tr th {\n",
       "        vertical-align: top;\n",
       "    }\n",
       "\n",
       "    .dataframe thead th {\n",
       "        text-align: right;\n",
       "    }\n",
       "</style>\n",
       "<table border=\"1\" class=\"dataframe\">\n",
       "  <thead>\n",
       "    <tr style=\"text-align: right;\">\n",
       "      <th></th>\n",
       "      <th>sentence_id</th>\n",
       "      <th>sentence</th>\n",
       "      <th>beg</th>\n",
       "      <th>end</th>\n",
       "      <th>label</th>\n",
       "    </tr>\n",
       "  </thead>\n",
       "  <tbody>\n",
       "    <tr>\n",
       "      <th>0</th>\n",
       "      <td>0000-000</td>\n",
       "      <td>EU rejects German call to boycott British lamb .</td>\n",
       "      <td>0</td>\n",
       "      <td>1</td>\n",
       "      <td>--NME--</td>\n",
       "    </tr>\n",
       "    <tr>\n",
       "      <th>1</th>\n",
       "      <td>0000-000</td>\n",
       "      <td>EU rejects German call to boycott British lamb .</td>\n",
       "      <td>2</td>\n",
       "      <td>3</td>\n",
       "      <td>Germany</td>\n",
       "    </tr>\n",
       "    <tr>\n",
       "      <th>2</th>\n",
       "      <td>0000-000</td>\n",
       "      <td>EU rejects German call to boycott British lamb .</td>\n",
       "      <td>6</td>\n",
       "      <td>7</td>\n",
       "      <td>United_Kingdom</td>\n",
       "    </tr>\n",
       "    <tr>\n",
       "      <th>3</th>\n",
       "      <td>0000-001</td>\n",
       "      <td>Peter Blackburn</td>\n",
       "      <td>0</td>\n",
       "      <td>2</td>\n",
       "      <td>--NME--</td>\n",
       "    </tr>\n",
       "    <tr>\n",
       "      <th>4</th>\n",
       "      <td>0000-002</td>\n",
       "      <td>BRUSSELS 1996-08-22</td>\n",
       "      <td>0</td>\n",
       "      <td>1</td>\n",
       "      <td>Brussels</td>\n",
       "    </tr>\n",
       "  </tbody>\n",
       "</table>\n",
       "</div>"
      ],
      "text/plain": [
       "  sentence_id                                          sentence  beg  end  \\\n",
       "0    0000-000  EU rejects German call to boycott British lamb .    0    1   \n",
       "1    0000-000  EU rejects German call to boycott British lamb .    2    3   \n",
       "2    0000-000  EU rejects German call to boycott British lamb .    6    7   \n",
       "3    0000-001                                   Peter Blackburn    0    2   \n",
       "4    0000-002                               BRUSSELS 1996-08-22    0    1   \n",
       "\n",
       "            label  \n",
       "0         --NME--  \n",
       "1         Germany  \n",
       "2  United_Kingdom  \n",
       "3         --NME--  \n",
       "4        Brussels  "
      ]
     },
     "execution_count": 57,
     "metadata": {},
     "output_type": "execute_result"
    }
   ],
   "source": [
    "df_train.head()"
   ]
  },
  {
   "cell_type": "markdown",
   "metadata": {},
   "source": [
    "In this sample, we see that the first sentence is annotated with three entity mentions:\n",
    "\n",
    "* the span 0–1 &lsquo;EU&rsquo; is annotated as a mention but only labelled with the generic `--NME--`\n",
    "* the span 2–3 &lsquo;German&rsquo; is annotated with the page [Germany](http://en.wikipedia.org/wiki/Germany)\n",
    "* the span 6–7 &lsquo;British&rsquo; is annotated with the page [United_Kingdom](http://en.wikipedia.org/wiki/United_Kingdom)"
   ]
  },
  {
   "cell_type": "markdown",
   "metadata": {},
   "source": [
    "## Problem 1: Evaluation measures"
   ]
  },
  {
   "cell_type": "markdown",
   "metadata": {},
   "source": [
    "To warm up, we ask you to write code to print the three measures that you will be using for evaluation:"
   ]
  },
  {
   "cell_type": "code",
   "execution_count": 58,
   "metadata": {},
   "outputs": [],
   "source": [
    "def evaluation_report(gold, pred):\n",
    "    \"\"\"Print precision, recall, and F1 score.\n",
    "    \n",
    "    Args:\n",
    "        gold: The set with the gold-standard values.\n",
    "        pred: The set with the predicted values.\n",
    "    \n",
    "    Returns:\n",
    "        Nothing, but prints the precision, recall, and F1 values computed\n",
    "        based on the specified sets.\n",
    "    \"\"\"\n",
    "    \n",
    "    gold_pred_intersect = len(gold.intersection(pred))\n",
    "    precision = round(gold_pred_intersect/len(pred), 2)\n",
    "    print(\"Precision: \"+ str(precision))\n",
    "    \n",
    "    recall = round(gold_pred_intersect/len(gold), 2)\n",
    "    print(\"Recall: \"+ str(recall))\n",
    "    \n",
    "    f1 = round(2*(precision * recall)/(precision+recall), 2)\n",
    "    print(\"F1: \"+ str(f1))"
   ]
  },
  {
   "cell_type": "markdown",
   "metadata": {},
   "source": [
    "To test your code, you can run the following cell:"
   ]
  },
  {
   "cell_type": "code",
   "execution_count": 59,
   "metadata": {},
   "outputs": [
    {
     "name": "stdout",
     "output_type": "stream",
     "text": [
      "Precision: 0.6\n",
      "Recall: 1.0\n",
      "F1: 0.75\n"
     ]
    }
   ],
   "source": [
    "evaluation_report(set(range(3)), set(range(5)))"
   ]
  },
  {
   "cell_type": "markdown",
   "metadata": {},
   "source": [
    "This should give you a precision of 60%, a recall of 100%, and an F1-value of 75%."
   ]
  },
  {
   "cell_type": "markdown",
   "metadata": {},
   "source": [
    "## Problem 2: Span recognition"
   ]
  },
  {
   "cell_type": "markdown",
   "metadata": {},
   "source": [
    "One of the first tasks that an information extraction system has to solve is to locate and classify (mentions of) named entities, such as persons and organizations. Here we will tackle the simpler task of recognizing **spans** of tokens that contain an entity mention, without the actual entity label.\n",
    "\n",
    "The English language model in spaCy features a full-fledged [named entity recognizer](https://spacy.io/usage/linguistic-features#named-entities) that identifies a variety of entities, and can be updated with new entity types by the user. Your task in this problem is to evaluate the performance of this component when predicting entity spans in the development data.\n",
    "\n",
    "Start by implementing a generator function that yields the gold-standard spans in a given data frame.\n",
    "\n",
    "**Hint:** The Pandas method [`itertuples()`](https://pandas.pydata.org/pandas-docs/version/0.17.0/generated/pandas.DataFrame.itertuples.html) is useful when iterating over the rows in a DataFrame."
   ]
  },
  {
   "cell_type": "code",
   "execution_count": 60,
   "metadata": {},
   "outputs": [],
   "source": [
    "def gold_spans(df):\n",
    "    \"\"\"Yield the gold-standard mention spans in a data frame.\n",
    "\n",
    "    Args:\n",
    "        df: A data frame.\n",
    "\n",
    "    Yields:\n",
    "        The gold-standard mention spans in the specified data frame as\n",
    "        triples consisting of the sentence id, start position, and end\n",
    "        position of each span.\n",
    "    \"\"\"\n",
    "    for row in df.itertuples():\n",
    "        yield((row.sentence_id, row.beg, row.end))"
   ]
  },
  {
   "cell_type": "code",
   "execution_count": 61,
   "metadata": {},
   "outputs": [
    {
     "name": "stdout",
     "output_type": "stream",
     "text": [
      "Number of yielded spans: 5917\n",
      "('0946-000', 2, 3)\n",
      "('1161-010', 1, 3)\n"
     ]
    }
   ],
   "source": [
    "# Creating generator.\n",
    "generator = gold_spans(df_dev)\n",
    "\n",
    "# Counting yielded spans.\n",
    "print(\"Number of yielded spans: \" + str(sum(1 for x in generator)))\n",
    "\n",
    "# Checking first and last triple.\n",
    "n = 1\n",
    "for triple in gold_spans(df_dev):\n",
    "    if n in [1, 5917]:\n",
    "        print(triple)\n",
    "    n = n+1"
   ]
  },
  {
   "cell_type": "markdown",
   "metadata": {},
   "source": [
    "To test your code, you can count the spans yielded by your function. When called on the development data, you should get a total of 5,917 unique triples. The first triple and the last triple should be\n",
    "\n",
    "    ('0946-000', 2, 3)\n",
    "    ('1161-010', 1, 3)  "
   ]
  },
  {
   "cell_type": "code",
   "execution_count": 62,
   "metadata": {},
   "outputs": [
    {
     "name": "stdout",
     "output_type": "stream",
     "text": [
      "5917\n"
     ]
    }
   ],
   "source": [
    "spans_dev_gold = set(gold_spans(df_dev))\n",
    "print(len(spans_dev_gold))"
   ]
  },
  {
   "cell_type": "markdown",
   "metadata": {},
   "source": [
    "Your next task is to write code that calls spaCy to predict the named entities in the development data, and to evaluate the accuracy of these predictions in terms of precision, recall, and F1. Print these scores using the function that you wrote for Problem&nbsp;1."
   ]
  },
  {
   "cell_type": "code",
   "execution_count": 63,
   "metadata": {},
   "outputs": [],
   "source": [
    "# Initializing empty set.\n",
    "spans_dev_pred = set()\n",
    "# Adding predictions to set by looping over each row in data frame.\n",
    "for row in range(0, len(df_dev)-1):\n",
    "    # Extracting sentence_id.\n",
    "    sentence_id = df_dev.iloc[row, 0]\n",
    "    # Extracting sentence column and transforming it to nlp-object.\n",
    "    doc = nlp(df_dev.iloc[row, 1])\n",
    "    # Looping over each identified entity within sentence.\n",
    "    for ent in doc.ents:\n",
    "        # Adding sentence_id and entity position to set.\n",
    "        spans_dev_pred.add((sentence_id, ent.start, ent.end))"
   ]
  },
  {
   "cell_type": "code",
   "execution_count": 64,
   "metadata": {},
   "outputs": [
    {
     "name": "stdout",
     "output_type": "stream",
     "text": [
      "Precision: 0.52\n",
      "Recall: 0.7\n",
      "F1: 0.6\n"
     ]
    }
   ],
   "source": [
    "# Evaluating.\n",
    "evaluation_report(spans_dev_gold, spans_dev_pred)"
   ]
  },
  {
   "cell_type": "markdown",
   "metadata": {},
   "source": [
    "## Problem 3: Error analysis"
   ]
  },
  {
   "cell_type": "markdown",
   "metadata": {},
   "source": [
    "As you were able to see in Problem&nbsp;2, the span accuracy of the named entity recognizer is far from perfect. In particular, only slightly more than half of the predicted spans are correct according to the gold standard. Your next task is to analyse this result in more detail.\n",
    "\n",
    "Write code that prints the false positives and the false negatives from the automatic prediction. Have a look at the output. What are your observations? How could you improve the result? Discuss these questions in a short text."
   ]
  },
  {
   "cell_type": "code",
   "execution_count": 65,
   "metadata": {},
   "outputs": [],
   "source": [
    "import numpy as np\n",
    "'''The implemented function gives an overview about the false positives and false negatives. We can specify the number\n",
    "   of examples we want to look at. For each example, the wrongly (not) predicted namd entities are printed. \n",
    "   By this procedure, it is easy to get an overview about the types of entities which are wrongly (not) predicted.'''\n",
    "\n",
    "def analyse_error(gold, pred, error_type, n):\n",
    "# gold:        gold-standard (true) named entities.\n",
    "# pred:        predicted named entities.\n",
    "# error_type: \"false_positive\" or \"false_negative\".\n",
    "# n:           number of desired examples printed.\n",
    "    \n",
    "    # Extracting either false positives (in prediction set, but not in gold set)\n",
    "    # or false negatives (not in prediction set, but in gold set).\n",
    "    if error_type == \"false_positive\":\n",
    "        errors = pred - gold\n",
    "    elif error_type == \"false_negative\":\n",
    "        errors = gold - pred\n",
    "    \n",
    "    print(str(\"*************** Identified \" + error_type + \"s ***************\"))\n",
    "    \n",
    "    # Initializing counter and empty list to store results in.\n",
    "    counter = 0\n",
    "    res = []\n",
    "    \n",
    "    # Printing relevant information about false positives / false negatives.\n",
    "    for each in errors:\n",
    "\n",
    "        if counter > n:\n",
    "            break\n",
    "\n",
    "        # Extracting identified sentence belonging to \"each\" as list.\n",
    "        each_sentence = \" \".join(df_dev[df_dev[\"sentence_id\"] == each[0]].iloc[:, 1]).split(\" \")\n",
    "\n",
    "        # Extracting (not) predicted entity name considering beginning and end position.\n",
    "        each_pred_entity_name =  \" \".join(np.unique([each_sentence[each[1]], each_sentence[each[2]-1]]))\n",
    "        res.append(each_pred_entity_name)\n",
    "\n",
    "        counter = counter + 1\n",
    "    \n",
    "    print(res)"
   ]
  },
  {
   "cell_type": "code",
   "execution_count": 66,
   "metadata": {},
   "outputs": [
    {
     "name": "stdout",
     "output_type": "stream",
     "text": [
      "*************** Identified false_positives ***************\n",
      "['71 77', 'Obilic Zeleznik', '83', '65', '70 75', '1', 'midday', '5', '69', '7', '1 September', '4 Peter', '6.', '5', '30 about', '3 9', '1949', '1', '68', '3', 'Third', ', --', '60', '0 1', '0 Torquay', '6.', '1', 'mid-1997', '20 minutes', '3', '$ billion', 'Friday', '6.', '14 May', 'second', '86', '144', 'second', \"'s Abu\", '10.09', 'first', '70', 'Friday', '0', 'One', '2 Israel', '1/3 7', '69', 'Party the', 'today', 'Thursday']\n"
     ]
    }
   ],
   "source": [
    "# Printing false positives.\n",
    "analyse_error(spans_dev_gold, spans_dev_pred, \"false_positive\", n = 50)"
   ]
  },
  {
   "cell_type": "code",
   "execution_count": 67,
   "metadata": {},
   "outputs": [
    {
     "name": "stdout",
     "output_type": "stream",
     "text": [
      "*************** Identified false_negatives ***************\n",
      "['YEREVAN', 'Lad Paddy', 'Final IAAF', 'Agriculture Department', 'Magna', 'Group Islamic', 'Nicol Peter', 'Holy Jerusalem', 'Warwickshire', 'Exchange New', 'Olympic', 'Queens Rangers', 'Moengo', 'King', 'Festival Venice', 'Gugelmin Mauricio', 'Joakim Persson', 'Johnstone St', 'Yastrzhembsky', 'ENGLAND', 'Banisadr', 'Hartlepool', 'Swansea', 'Crewe', 'Healy', 'Cup World', 'EUROBONDS', 'Chen Chun-yeh', 'TORONTO', 'English', 'States United', 'Lara Raul', 'Tranmere', 'Worcestershire', 'C. Tolley', 'LIFFE', 'Nyerere', 'pre-Castro', 'Fal', 'Melrose', 'Gillespie J.', 'Honiball', 'Hampshire', 'Expos', 'Dirk Medved', 'Kaluwitharana', 'Army Irish', 'Kaluwitharana', 'Billie King', 'Coruna Deportivo', 'Warwickshire']\n"
     ]
    }
   ],
   "source": [
    "# Printing false negatives.\n",
    "analyse_error(spans_dev_gold, spans_dev_pred, \"false_negative\", n = 50)"
   ]
  },
  {
   "cell_type": "code",
   "execution_count": 68,
   "metadata": {},
   "outputs": [],
   "source": [
    "# For the false positives, it can be seen that there are a lot of numbers which are predicted as a named entity. \n",
    "# However, these numbers are not labeled by the gold-standard.\n",
    "\n",
    "# In contrast, the analysis of the false negatives shows us that a lot of persons are not predicted as a named entity. \n",
    "\n",
    "# Consequently, we should adjust our predictor so that it does not predict numbers as a named entity. \n",
    "# Also, it should make sure that more persons are recognized as named entities."
   ]
  },
  {
   "cell_type": "markdown",
   "metadata": {},
   "source": [
    "Now, use the insights from your error analysis to improve the automated prediction that you implemented in Problem&nbsp;2. While the best way to do this would be to [update spaCy&rsquo;s NER model](https://spacy.io/usage/linguistic-features#updating) using domain-specific training data, for this lab it suffices to write code to pre-process the data and/or post-process the output produced by spaCy. You should be able to improve the F1 score from Problem&nbsp;2 by at last 15 percentage points."
   ]
  },
  {
   "cell_type": "code",
   "execution_count": 69,
   "metadata": {},
   "outputs": [],
   "source": [
    "# Since we think that it is much easier to influence the entities that are not predicted by the \n",
    "# predictor (numbers) than predicting more persons as entities, \n",
    "# we concentrate on the false-positives. We adjust our predictor by excluding predicted entities if they include numbers."
   ]
  },
  {
   "cell_type": "code",
   "execution_count": 70,
   "metadata": {},
   "outputs": [],
   "source": [
    "# Initializing empty set.\n",
    "spans_dev_pred_new = set()\n",
    "# Adding predictions to set by looping over each row in data frame.\n",
    "for row in range(0, len(df_dev)-1):\n",
    "    # Extracting sentence_id.\n",
    "    sentence_id = df_dev.iloc[row, 0]\n",
    "    # Extracting sentence column and transforming it to nlp-object.\n",
    "    doc = nlp(df_dev.iloc[row, 1])\n",
    "    # Looping over each identified entity within sentence.\n",
    "    for ent in doc.ents:\n",
    "        # Removing predicted entity if it includes numbers.\n",
    "        if ent.label_ != \"CARDINAL\" and ent.label_ != \"DATE\" and ent.label_ != \"TIME\" and ent.label_ != \"ORDINAL\" and ent.label_ != \"QUANTITY\":\n",
    "            # Adding sentence_id and entity position to set.\n",
    "            spans_dev_pred_new.add((sentence_id, ent.start, ent.end))"
   ]
  },
  {
   "cell_type": "markdown",
   "metadata": {},
   "source": [
    "Show that you achieve the performance goal by reporting the evaluation measures that you implemented in Problem&nbsp;1."
   ]
  },
  {
   "cell_type": "code",
   "execution_count": 71,
   "metadata": {},
   "outputs": [
    {
     "name": "stdout",
     "output_type": "stream",
     "text": [
      "Precision: 0.84\n",
      "Recall: 0.7\n",
      "F1: 0.76\n"
     ]
    }
   ],
   "source": [
    "# Evaluating new predictor.\n",
    "evaluation_report(spans_dev_gold, spans_dev_pred_new)"
   ]
  },
  {
   "cell_type": "markdown",
   "metadata": {},
   "source": [
    "Before going on, we ask you to store the outputs of the improved named entity recognizer on the development data in a new data frame. This new frame should have the same layout as the original data frame for the development data that you loaded above, but should contain the predicted start and end positions for each token span. As the `label` of each span, you can use the special value `--NME--`."
   ]
  },
  {
   "cell_type": "code",
   "execution_count": 72,
   "metadata": {},
   "outputs": [
    {
     "data": {
      "text/html": [
       "<div>\n",
       "<style scoped>\n",
       "    .dataframe tbody tr th:only-of-type {\n",
       "        vertical-align: middle;\n",
       "    }\n",
       "\n",
       "    .dataframe tbody tr th {\n",
       "        vertical-align: top;\n",
       "    }\n",
       "\n",
       "    .dataframe thead th {\n",
       "        text-align: right;\n",
       "    }\n",
       "</style>\n",
       "<table border=\"1\" class=\"dataframe\">\n",
       "  <thead>\n",
       "    <tr style=\"text-align: right;\">\n",
       "      <th></th>\n",
       "      <th>sentence_id</th>\n",
       "      <th>sentence</th>\n",
       "      <th>beg</th>\n",
       "      <th>end</th>\n",
       "      <th>label</th>\n",
       "    </tr>\n",
       "  </thead>\n",
       "  <tbody>\n",
       "    <tr>\n",
       "      <th>4085</th>\n",
       "      <td>0946-000</td>\n",
       "      <td>CRICKET - LEICESTERSHIRE TAKE OVER AT TOP AFTE...</td>\n",
       "      <td>0</td>\n",
       "      <td>3</td>\n",
       "      <td>--NME--</td>\n",
       "    </tr>\n",
       "    <tr>\n",
       "      <th>3304</th>\n",
       "      <td>0946-001</td>\n",
       "      <td>LONDON 1996-08-30</td>\n",
       "      <td>0</td>\n",
       "      <td>1</td>\n",
       "      <td>--NME--</td>\n",
       "    </tr>\n",
       "    <tr>\n",
       "      <th>4088</th>\n",
       "      <td>0946-002</td>\n",
       "      <td>West Indian all-rounder Phil Simmons took four...</td>\n",
       "      <td>3</td>\n",
       "      <td>5</td>\n",
       "      <td>--NME--</td>\n",
       "    </tr>\n",
       "    <tr>\n",
       "      <th>2725</th>\n",
       "      <td>0946-002</td>\n",
       "      <td>West Indian all-rounder Phil Simmons took four...</td>\n",
       "      <td>12</td>\n",
       "      <td>13</td>\n",
       "      <td>--NME--</td>\n",
       "    </tr>\n",
       "    <tr>\n",
       "      <th>2698</th>\n",
       "      <td>0946-002</td>\n",
       "      <td>West Indian all-rounder Phil Simmons took four...</td>\n",
       "      <td>14</td>\n",
       "      <td>15</td>\n",
       "      <td>--NME--</td>\n",
       "    </tr>\n",
       "  </tbody>\n",
       "</table>\n",
       "</div>"
      ],
      "text/plain": [
       "     sentence_id                                           sentence beg end  \\\n",
       "4085    0946-000  CRICKET - LEICESTERSHIRE TAKE OVER AT TOP AFTE...   0   3   \n",
       "3304    0946-001                                  LONDON 1996-08-30   0   1   \n",
       "4088    0946-002  West Indian all-rounder Phil Simmons took four...   3   5   \n",
       "2725    0946-002  West Indian all-rounder Phil Simmons took four...  12  13   \n",
       "2698    0946-002  West Indian all-rounder Phil Simmons took four...  14  15   \n",
       "\n",
       "        label  \n",
       "4085  --NME--  \n",
       "3304  --NME--  \n",
       "4088  --NME--  \n",
       "2725  --NME--  \n",
       "2698  --NME--  "
      ]
     },
     "execution_count": 72,
     "metadata": {},
     "output_type": "execute_result"
    }
   ],
   "source": [
    "# Initializing empty data frame.\n",
    "col_names =  ['sentence_id', 'sentence', 'beg', 'end', 'label']\n",
    "df_dev_new  = pd.DataFrame(columns = col_names)\n",
    "\n",
    "# Filling data frame.\n",
    "for pred_named_ent in spans_dev_pred_new:\n",
    "    sentence_id = pred_named_ent[0]\n",
    "    sentence = df_dev[df_dev[\"sentence_id\"] == sentence_id].iloc[0, 1]\n",
    "    beg = pred_named_ent[1]\n",
    "    end = pred_named_ent[2]\n",
    "    df_dev_new.loc[len(df_dev_new)] = [sentence_id, sentence, beg, end, \"--NME--\"]\n",
    "\n",
    "# Printing head of new data frame.\n",
    "df_dev_new = df_dev_new.sort_values(by = [\"sentence_id\"])\n",
    "df_dev_new.head()"
   ]
  },
  {
   "cell_type": "markdown",
   "metadata": {},
   "source": [
    "## Problem 4: Entity linking"
   ]
  },
  {
   "cell_type": "markdown",
   "metadata": {},
   "source": [
    "Now that we have a method for predicting mention spans, we turn to the task of **entity linking**, which amounts to predicting the knowledge base entity that is referenced by a given mention. In our case, for each span we want to predict the Wikipedia page that this mention references.\n",
    "\n",
    "Start by extending the generator function that you implemented in Problem&nbsp;2 to labelled spans."
   ]
  },
  {
   "cell_type": "code",
   "execution_count": 73,
   "metadata": {},
   "outputs": [],
   "source": [
    "def gold_mentions(df):\n",
    "    \"\"\"Yield the gold-standard mentions in a data frame.\n",
    "\n",
    "    Args:\n",
    "        df: A data frame.\n",
    "\n",
    "    Yields:\n",
    "        The gold-standard mention spans in the specified data frame as\n",
    "        quadruples consisting of the sentence id, start position, end\n",
    "        position and entity label of each span.\n",
    "    \"\"\"\n",
    "    for row in df.itertuples():\n",
    "        yield((row.sentence_id, row.beg, row.end, row.label))"
   ]
  },
  {
   "cell_type": "markdown",
   "metadata": {},
   "source": [
    "A naive baseline for entity linking on our data set is to link each mention span to the Wikipedia page name that we get when we join the tokens in the span by underscores, as is standard in Wikipedia page names. Suppose, for example, that a span contains the two tokens\n",
    "\n",
    "    Jimi Hendrix\n",
    "\n",
    "The baseline Wikipedia page name for this span would be\n",
    "\n",
    "    Jimi_Hendrix\n",
    "\n",
    "Implement this naive baseline and evaluate its performance. Print the evaluation measures that you implemented in Problem&nbsp;1."
   ]
  },
  {
   "cell_type": "markdown",
   "metadata": {},
   "source": [
    "<div class=\"alert alert-warning\">\n",
    "    Here and in the remainder of this lab, you should base your entity predictions on the predicted spans that you computed in Problem&nbsp;3.\n",
    "</div>"
   ]
  },
  {
   "cell_type": "code",
   "execution_count": 74,
   "metadata": {},
   "outputs": [
    {
     "name": "stdout",
     "output_type": "stream",
     "text": [
      "Precision: 0.31\n",
      "Recall: 0.26\n",
      "F1: 0.28\n"
     ]
    }
   ],
   "source": [
    "def wikipedia_tags(df):\n",
    "    for each in range(len(df)):\n",
    "        sentence_id = df.iloc[each, 0]\n",
    "        sentence = df.iloc[each,1]\n",
    "        sentence = sentence.split()\n",
    "        beg = df.iloc[each, 2]\n",
    "        end = df.iloc[each, 3]\n",
    "        wikipedia_tag = \"_\".join(sentence[beg:end])\n",
    "        yield (sentence_id, beg, end, wikipedia_tag)\n",
    "\n",
    "## Predictions.\n",
    "wiki_dev_pred = set(wikipedia_tags(df_dev_new))\n",
    "\n",
    "## Gold standard.\n",
    "wiki_dev_gold = set(gold_mentions(df_dev))\n",
    "\n",
    "# Evaluating.\n",
    "evaluation_report(wiki_dev_gold, wiki_dev_pred)"
   ]
  },
  {
   "cell_type": "markdown",
   "metadata": {},
   "source": [
    "## Problem 5: Extending the training data using the knowledge base"
   ]
  },
  {
   "cell_type": "markdown",
   "metadata": {},
   "source": [
    "State-of-the-art approaches to entity linking exploit information in knowledge bases. In our case, where Wikipedia is the knowledge base, one particularly useful type of information are links to other Wikipedia pages. In particular, we can interpret the anchor texts (the highlighted texts that you click on when you click on a link) as mentions of the entities (pages) that they link to. This allows us to harvest long lists over mention–entity pairings.\n",
    "\n",
    "The following cell loads a data frame summarizing anchor texts and page references harvested from the first paragraphs of the English Wikipedia. The data frame also contains all entity mentions in the training data (but not the development or the test data)."
   ]
  },
  {
   "cell_type": "code",
   "execution_count": 75,
   "metadata": {},
   "outputs": [],
   "source": [
    "with bz2.open(\"kb.tsv.bz2\", 'rt', encoding = \"utf8\") as source:\n",
    "    df_kb = pd.read_csv(source, sep='\\t', quoting=csv.QUOTE_NONE)"
   ]
  },
  {
   "cell_type": "markdown",
   "metadata": {},
   "source": [
    "To understand what information is available in this data, the following cell shows the entry for the anchor text `Sweden`."
   ]
  },
  {
   "cell_type": "code",
   "execution_count": 76,
   "metadata": {},
   "outputs": [
    {
     "data": {
      "text/html": [
       "<div>\n",
       "<style scoped>\n",
       "    .dataframe tbody tr th:only-of-type {\n",
       "        vertical-align: middle;\n",
       "    }\n",
       "\n",
       "    .dataframe tbody tr th {\n",
       "        vertical-align: top;\n",
       "    }\n",
       "\n",
       "    .dataframe thead th {\n",
       "        text-align: right;\n",
       "    }\n",
       "</style>\n",
       "<table border=\"1\" class=\"dataframe\">\n",
       "  <thead>\n",
       "    <tr style=\"text-align: right;\">\n",
       "      <th></th>\n",
       "      <th>mention</th>\n",
       "      <th>entity</th>\n",
       "      <th>prob</th>\n",
       "    </tr>\n",
       "  </thead>\n",
       "  <tbody>\n",
       "    <tr>\n",
       "      <th>17436</th>\n",
       "      <td>Sweden</td>\n",
       "      <td>Sweden</td>\n",
       "      <td>0.985768</td>\n",
       "    </tr>\n",
       "    <tr>\n",
       "      <th>17437</th>\n",
       "      <td>Sweden</td>\n",
       "      <td>Sweden_national_football_team</td>\n",
       "      <td>0.014173</td>\n",
       "    </tr>\n",
       "    <tr>\n",
       "      <th>17438</th>\n",
       "      <td>Sweden</td>\n",
       "      <td>Sweden_men's_national_ice_hockey_team</td>\n",
       "      <td>0.000059</td>\n",
       "    </tr>\n",
       "  </tbody>\n",
       "</table>\n",
       "</div>"
      ],
      "text/plain": [
       "      mention                                 entity      prob\n",
       "17436  Sweden                                 Sweden  0.985768\n",
       "17437  Sweden          Sweden_national_football_team  0.014173\n",
       "17438  Sweden  Sweden_men's_national_ice_hockey_team  0.000059"
      ]
     },
     "execution_count": 76,
     "metadata": {},
     "output_type": "execute_result"
    }
   ],
   "source": [
    "df_kb.loc[df_kb[\"mention\"] == \"Sweden\"]"
   ]
  },
  {
   "cell_type": "markdown",
   "metadata": {},
   "source": [
    "As you can see, each row of the data frame contains a pair $(m, e)$ of a mention $m$ and an entity $e$, as well as the conditional probability $P(e|m)$ for mention $m$ referring to entity $e$. These probabilities were estimated based on the frequencies of mention–entity pairs in the knowledge base. The example shows that the anchor text &lsquo;Sweden&rsquo; is most often used to refer to the entity [Sweden](http://en.wikipedia.org/wiki/Sweden), but in a few cases also to refer to Sweden&rsquo;s national football and ice hockey teams. Note that references are sorted in decreasing order of probability, so that the most probable pairing stands first.\n",
    "\n",
    "Implement an entity linking method that resolves each mention to the most probable entity in the data frame. If the mention is not included in the data frame, you can predict the generic label `--NME--`. Print the precision, recall, and F1 of your method using the function that you implemented for Problem&nbsp;1."
   ]
  },
  {
   "cell_type": "code",
   "execution_count": 77,
   "metadata": {},
   "outputs": [],
   "source": [
    "def label_as_gold(df):\n",
    "    for each in range(len(df)):\n",
    "        sentence = df.iloc[each,1]\n",
    "        sentence = sentence.split()\n",
    "        beg = df.iloc[each, 2]\n",
    "        end = df.iloc[each, 3]\n",
    "        mention = sentence[beg:end]\n",
    "        mention = \" \".join(mention)\n",
    "        label = df.iloc[each, 4]\n",
    "        \n",
    "        yield (mention, label)"
   ]
  },
  {
   "cell_type": "code",
   "execution_count": 78,
   "metadata": {},
   "outputs": [
    {
     "data": {
      "text/html": [
       "<div>\n",
       "<style scoped>\n",
       "    .dataframe tbody tr th:only-of-type {\n",
       "        vertical-align: middle;\n",
       "    }\n",
       "\n",
       "    .dataframe tbody tr th {\n",
       "        vertical-align: top;\n",
       "    }\n",
       "\n",
       "    .dataframe thead th {\n",
       "        text-align: right;\n",
       "    }\n",
       "</style>\n",
       "<table border=\"1\" class=\"dataframe\">\n",
       "  <thead>\n",
       "    <tr style=\"text-align: right;\">\n",
       "      <th></th>\n",
       "      <th>mention</th>\n",
       "      <th>label</th>\n",
       "    </tr>\n",
       "  </thead>\n",
       "  <tbody>\n",
       "    <tr>\n",
       "      <th>0</th>\n",
       "      <td>LEICESTERSHIRE</td>\n",
       "      <td>Leicestershire_County_Cricket_Club</td>\n",
       "    </tr>\n",
       "    <tr>\n",
       "      <th>1</th>\n",
       "      <td>LONDON</td>\n",
       "      <td>London</td>\n",
       "    </tr>\n",
       "    <tr>\n",
       "      <th>2</th>\n",
       "      <td>West Indian</td>\n",
       "      <td>West_Indies_cricket_team</td>\n",
       "    </tr>\n",
       "    <tr>\n",
       "      <th>3</th>\n",
       "      <td>Phil Simmons</td>\n",
       "      <td>Phil_Simmons</td>\n",
       "    </tr>\n",
       "    <tr>\n",
       "      <th>4</th>\n",
       "      <td>Leicestershire</td>\n",
       "      <td>Leicestershire_County_Cricket_Club</td>\n",
       "    </tr>\n",
       "  </tbody>\n",
       "</table>\n",
       "</div>"
      ],
      "text/plain": [
       "          mention                               label\n",
       "0  LEICESTERSHIRE  Leicestershire_County_Cricket_Club\n",
       "1          LONDON                              London\n",
       "2     West Indian            West_Indies_cricket_team\n",
       "3    Phil Simmons                        Phil_Simmons\n",
       "4  Leicestershire  Leicestershire_County_Cricket_Club"
      ]
     },
     "execution_count": 78,
     "metadata": {},
     "output_type": "execute_result"
    }
   ],
   "source": [
    "set_dev_gold_label = set(label_as_gold(df_dev))\n",
    "df_dev_gold_label = label_as_gold(df_dev)\n",
    "df_dev_gold_label = pd.DataFrame(df_dev_gold_label)\n",
    "df_dev_gold_label.columns = ['mention', 'label']\n",
    "df_dev_gold_label.head()"
   ]
  },
  {
   "cell_type": "code",
   "execution_count": 79,
   "metadata": {},
   "outputs": [],
   "source": [
    "def label_most_prob_ent(df):\n",
    "    for each in range(len(df)):\n",
    "        mention = df.iloc[each, 0]\n",
    "        mention = str(mention)\n",
    "    \n",
    "        subset = df_kb.loc[df_kb[\"mention\"] == mention]\n",
    "        subset = subset.sort_values(by=['prob'])\n",
    "        \n",
    "        if subset.empty == True:\n",
    "            label = '--NME--'\n",
    "        else:\n",
    "            label = subset.iloc[0,1]\n",
    "        \n",
    "        yield (mention, label)\n",
    "        \n",
    "set_dev_most_prob_label = set(label_most_prob_ent(df_dev_gold_label))"
   ]
  },
  {
   "cell_type": "code",
   "execution_count": 80,
   "metadata": {},
   "outputs": [
    {
     "name": "stdout",
     "output_type": "stream",
     "text": [
      "Precision: 0.74\n",
      "Recall: 0.7\n",
      "F1: 0.72\n"
     ]
    }
   ],
   "source": [
    "evaluation_report(set_dev_gold_label, set_dev_most_prob_label)"
   ]
  },
  {
   "cell_type": "markdown",
   "metadata": {},
   "source": [
    "## Problem 6: Context-sensitive disambiguation"
   ]
  },
  {
   "cell_type": "markdown",
   "metadata": {},
   "source": [
    "Consider the entity mention &lsquo;Lincoln&rsquo;. The most probable entity for this mention turns out to be [Lincoln, Nebraska](http://en.wikipedia.org/Lincoln,_Nebraska); but in pages about American history, we would be better off to predict [Abraham Lincoln](http://en.wikipedia.org/Abraham_Lincoln). This suggests that we should try to disambiguate between different entity references based on the textual context on the page from which the mention was taken. Your task in this last problem is to implement this idea.\n",
    "\n",
    "Set up a dictionary that contains, for each mention $m$ that can refer to more than one entity $e$, a separate Naive Bayes classifier to predict the correct entity $e$, given the textual context of the mention. As the prior probabilities of the classifier, choose the probabilities $P(e|m)$ that you used in Problem&nbsp;5. To let you estimate the context-specific probabilities, we have compiled a data set with mention contexts:"
   ]
  },
  {
   "cell_type": "code",
   "execution_count": 81,
   "metadata": {},
   "outputs": [],
   "source": [
    "with bz2.open(\"contexts.tsv.bz2\") as source:\n",
    "    df_contexts = pd.read_csv(source, sep='\\t', quoting=csv.QUOTE_NONE)"
   ]
  },
  {
   "cell_type": "markdown",
   "metadata": {},
   "source": [
    "This data frame contains, for each ambiguous mention $m$ and each knowledge base entity $e$ to which this mention can refer, up to 100 randomly selected contexts in which $m$ is used to refer to $e$. For this data, a **context** is defined as a bag of words containing the mention itself, as well as the 5 tokens to the left and the 5 tokens to the right of the mention. Here are a few examples:"
   ]
  },
  {
   "cell_type": "markdown",
   "metadata": {},
   "source": [
    "From this data frame, it is easy to select the data that you need to train the classifiers – the contexts and corresponding entities for all mentions. To illustrate this, the following cell shows how to select all contexts that belong to the mention &lsquo;Lincoln&rsquo;:"
   ]
  },
  {
   "cell_type": "code",
   "execution_count": 82,
   "metadata": {},
   "outputs": [
    {
     "data": {
      "text/plain": [
       "41465    Nebraska Concealed Handgun Permit In Lincoln m...\n",
       "41466    Lazlo restaurants are located in Lincoln and O...\n",
       "41467    California Washington Overland Park Kansas Lin...\n",
       "41468    City Missouri Omaha Nebraska and Lincoln Nebra...\n",
       "41469    by Sandhills Publishing Company in Lincoln Neb...\n",
       "                               ...                        \n",
       "41609                                Lincoln Leyton Orient\n",
       "41610               English division three Swansea Lincoln\n",
       "41611    league membership narrowly edging out Lincoln ...\n",
       "41612                                    Lincoln Cambridge\n",
       "41613                                              Lincoln\n",
       "Name: context, Length: 149, dtype: object"
      ]
     },
     "execution_count": 82,
     "metadata": {},
     "output_type": "execute_result"
    }
   ],
   "source": [
    "df_contexts.context[df_contexts.mention == \"Lincoln\"]"
   ]
  },
  {
   "cell_type": "markdown",
   "metadata": {},
   "source": [
    "Implement the context-sensitive disambiguation method and evaluate its performance. Here are some more hints that may help you along the way:\n",
    "\n",
    "**Hint 1:** The prior probabilities for a Naive Bayes classifier can be specified using the `class_prior` option. You will have to provide the probabilities in the same order as the alphabetically sorted class (entity) names.\n",
    "\n",
    "**Hint 2:** To tune the performance of your method, you can try to tweak the behaviour of the vectorizer (for example, should it apply lowercasing or not?) and the width of the window from which you are extracting context tokens at prediction time.\n",
    "\n",
    "**Hint 3:** Not all mentions in the knowledge base are ambiguous, and therefore not all mentions have context data. If a mention has only one possible entity, pick that one. If a mention has no entity at all, predict the `--NME--` label."
   ]
  },
  {
   "cell_type": "code",
   "execution_count": 83,
   "metadata": {},
   "outputs": [],
   "source": [
    "# First, we implement the dictionary which includes all classifiers for each mention:\n",
    "\n",
    "# Instantiate pipeline.\n",
    "from sklearn.pipeline import make_pipeline\n",
    "from sklearn.naive_bayes import MultinomialNB\n",
    "from sklearn.feature_extraction.text import CountVectorizer\n",
    "from sklearn.feature_extraction.text import TfidfVectorizer\n",
    "\n",
    "# Initializing empty dictionary.\n",
    "mention_classififer_dict = {}\n",
    "\n",
    "for mention in df_contexts.mention.unique():\n",
    "    \n",
    "    # Extracting class_prior.\n",
    "    class_prior_prob = df_kb[[\"entity\", \"prob\"]][df_kb[\"mention\"] == mention]\n",
    "    class_prior_prob = class_prior_prob.sort_values(by = [\"entity\"]).prob.tolist()\n",
    "    \n",
    "    # Setting up classifier pipeline.\n",
    "    nb_pipeline = make_pipeline(CountVectorizer(lowercase = True), \n",
    "                                MultinomialNB(class_prior = class_prior_prob)) \n",
    "\n",
    "    # Using pipeline to train naive bayes classifier on training data.\n",
    "    nb_classifier = nb_pipeline.fit(df_contexts.context[df_contexts.mention == mention], \n",
    "                                    df_contexts.entity[df_contexts.mention == mention])\n",
    "    \n",
    "    # Adding classifier to dict.\n",
    "    mention_classififer_dict[mention] = nb_classifier"
   ]
  },
  {
   "cell_type": "code",
   "execution_count": 84,
   "metadata": {},
   "outputs": [],
   "source": [
    "def label_using_classifier(df):\n",
    "        \n",
    "    for row in range(len(df)):\n",
    "\n",
    "        # Extracting sentence.\n",
    "        sentence = df.iloc[row, 1].split()\n",
    "\n",
    "        # Extracting span of mention.\n",
    "        beg = df.iloc[row, 2]\n",
    "        end = df.iloc[row, 3]\n",
    "\n",
    "        # Extracting mention.\n",
    "        mention = \" \".join(sentence[beg:end])\n",
    "\n",
    "        # Extracting context from sentence.\n",
    "        # Context consists of mention itself, as well as 5 tokens to the left and 5 tokens to the right of the mention.\n",
    "        # Converting context to pd.Series format (necessary for classifier).\n",
    "        indexmin = end-beg\n",
    "        indexmax = end\n",
    "        context = sentence[max(0, beg-5) : min(end+5, len(sentence))]\n",
    "        context = pd.Series(\" \".join(context))\n",
    "\n",
    "        # Predicting label using mention and context.\n",
    "\n",
    "        ## Checking if entity is in dictionary. If yes, use classifier.\n",
    "        ## Else, proceed as in problem 5.\n",
    "       \n",
    "        if len(df_contexts.entity[df_contexts.mention == mention].unique()) > 1:\n",
    "            label = mention_classififer_dict[mention].predict(context)[0]\n",
    "         \n",
    "        else:\n",
    "            subset = df_kb.loc[df_kb[\"mention\"] == mention]\n",
    "            subset = subset.sort_values(by=['prob'])\n",
    "            if subset.empty == True:\n",
    "                label = '--NME--'\n",
    "            else:\n",
    "                label = subset.iloc[0,1]\n",
    "            \n",
    "        yield (mention, label)\n",
    "\n",
    "set_dev_classified_label = set(label_using_classifier(df_dev))\n"
   ]
  },
  {
   "cell_type": "code",
   "execution_count": 85,
   "metadata": {},
   "outputs": [
    {
     "name": "stdout",
     "output_type": "stream",
     "text": [
      "Precision: 0.8\n",
      "Recall: 0.78\n",
      "F1: 0.79\n"
     ]
    }
   ],
   "source": [
    "evaluation_report(set_dev_gold_label, set_dev_classified_label)"
   ]
  },
  {
   "cell_type": "markdown",
   "metadata": {},
   "source": [
    "You should expect to see a small (around 1&nbsp;unit) increase in both precision, recall, and F1. Published systems report a larger impact of context-sensitive disambiguation. Feel free to think about what could explain the relatively minor impact that we see here!"
   ]
  },
  {
   "cell_type": "markdown",
   "metadata": {},
   "source": [
    "**This was the last lab in the Text Mining course. Well done!**"
   ]
  },
  {
   "cell_type": "markdown",
   "metadata": {},
   "source": [
    "<div class=\"alert alert-info\">\n",
    "    Please read the section ‘General information’ on the ‘Labs’ page of the course website before submitting this notebook!\n",
    "</div>"
   ]
  }
 ],
 "metadata": {
  "kernelspec": {
   "display_name": "Python 3",
   "language": "python",
   "name": "python3"
  },
  "language_info": {
   "codemirror_mode": {
    "name": "ipython",
    "version": 3
   },
   "file_extension": ".py",
   "mimetype": "text/x-python",
   "name": "python",
   "nbconvert_exporter": "python",
   "pygments_lexer": "ipython3",
   "version": "3.7.1"
  }
 },
 "nbformat": 4,
 "nbformat_minor": 2
}

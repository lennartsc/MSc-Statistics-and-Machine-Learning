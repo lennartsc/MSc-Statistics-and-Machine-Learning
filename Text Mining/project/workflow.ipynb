{
 "cells": [
  {
   "cell_type": "markdown",
   "metadata": {},
   "source": [
    "# **1.) Importing libraries**"
   ]
  },
  {
   "cell_type": "code",
   "execution_count": 22,
   "metadata": {},
   "outputs": [],
   "source": [
    "# Own functions.\n",
    "import myfunctions\n",
    "# General.\n",
    "import pandas as pd\n",
    "import numpy as np\n",
    "import time\n",
    "import re\n",
    "import pickle\n",
    "import json\n",
    "# Pipelining.\n",
    "from sklearn.pipeline import make_pipeline\n",
    "from sklearn.pipeline import Pipeline\n",
    "# Vectorizing and preprocessing.\n",
    "import spacy\n",
    "from sklearn.feature_extraction.text import CountVectorizer\n",
    "from sklearn.feature_extraction.text import TfidfVectorizer\n",
    "# Grid Search.\n",
    "from sklearn.model_selection import GridSearchCV\n",
    "# Crawling tweets.\n",
    "import GetOldTweets3 as got\n",
    "import tweepy\n",
    "# Plotting.\n",
    "import matplotlib.pyplot as plt\n",
    "from matplotlib.lines import Line2D\n",
    "from matplotlib import rc\n",
    "# Classifying.\n",
    "from sklearn.naive_bayes import MultinomialNB\n",
    "from sklearn.tree import DecisionTreeClassifier\n",
    "from xgboost import XGBClassifier\n",
    "# Evaluating.\n",
    "from sklearn.metrics import accuracy_score, recall_score, precision_score, f1_score\n",
    "from sklearn.metrics import confusion_matrix"
   ]
  },
  {
   "cell_type": "markdown",
   "metadata": {},
   "source": [
    "# **2.) Reading, preparing Sentiment140 data. Performing descriptive analysis.**"
   ]
  },
  {
   "cell_type": "code",
   "execution_count": 299,
   "metadata": {},
   "outputs": [
    {
     "name": "stdout",
     "output_type": "stream",
     "text": [
      "(1600000, 684358)\n",
      "(1600000, 287922)\n"
     ]
    }
   ],
   "source": [
    "# Reading Sentiment140 dataset.\n",
    "origin_df = pd.read_csv(filepath_or_buffer = \"training.1600000.processed.noemoticon.csv\", \n",
    "                        header = None,\n",
    "                        index_col = False,\n",
    "                        names = [\"sentiment\", \"id\", \"date_time\", \"query\", \"account\", \"text\"],\n",
    "                        encoding = 'latin-1')\n",
    "\n",
    "# Extracting columns. Changing type of date column.\n",
    "origin_df = origin_df.iloc[:, [0, 2, 5]]\n",
    "origin_df[\"date_time\"] = pd.to_datetime(origin_df[\"date_time\"])\n",
    "\n",
    "# Removing usernames and links from tweets.\n",
    "for i in origin_df.index:\n",
    "    origin_df.at[i, 'text'] = re.sub(r\"(?:\\@|https?\\://)\\S+\", \"\", origin_df.at[i, 'text'])\n",
    "origin_df.to_csv(\"datasets/sentiment140/sentiment140_final.csv\", index = False)\n",
    "\n",
    "# Comparing how number of features has changed.\n",
    "origin_df = pd.read_csv(\"datasets/sentiment140/sentiment140_prepared.csv\")\n",
    "X_origin = CountVectorizer().fit_transform(origin_df[\"text\"])\n",
    "print(X_origin.shape)\n",
    "\n",
    "names_links_removed_df = pd.read_csv(\"datasets/sentiment140/sentiment140_final.csv\")\n",
    "X_names_links_removed = CountVectorizer().fit_transform(names_links_removed_df[\"text\"])\n",
    "print(X_names_links_removed.shape)"
   ]
  },
  {
   "cell_type": "code",
   "execution_count": 300,
   "metadata": {},
   "outputs": [
    {
     "name": "stdout",
     "output_type": "stream",
     "text": [
      "Number of tweets in origin data in total: 1600000\n",
      "Number of tweets in origin data with sentiment == 1 (positive): 800000\n",
      "Number of tweets in origin data with sentiment == 0 (negative): 800000\n",
      "\n",
      "Number of tweets in training data in total: 1120000\n",
      "Number of tweets in training data with sentiment == 1 (positive): 560000\n",
      "Number of tweets in training data with sentiment == 0 (negative): 560000\n",
      "\n",
      "Number of tweets in test data in total: 480000\n",
      "Number of tweets in test data with sentiment == 1 (positive): 240000\n",
      "Number of tweets in test data with sentiment == 0 (negative): 240000\n",
      "\n",
      "Number of tweets in tuning data in total: 112000\n",
      "Number of tweets in tuning data with sentiment == 1 (positive): 56000\n",
      "Number of tweets in tuning data with sentiment == 0 (negative): 56000\n"
     ]
    }
   ],
   "source": [
    "# Extracting training, \"tuning\" and test set.\n",
    "train_df, test_df, tuning_df = myfunctions.read_split_data(\n",
    "    path = \"datasets/sentiment140/sentiment140_final.csv\", \n",
    "    tuning_set = 0.1, \n",
    "    print_n = True)"
   ]
  },
  {
   "cell_type": "markdown",
   "metadata": {},
   "source": [
    "# 3.) Finding best pipeline by tuning vectorizer, preprocessor function and model hyperparameters for each model."
   ]
  },
  {
   "cell_type": "code",
   "execution_count": 8,
   "metadata": {},
   "outputs": [],
   "source": [
    "# Loading model. Disabling loading non-necessary model components.\n",
    "nlp = spacy.load(\"en_core_web_sm\", disable = [\"tagger\", \"parser\", \"ner\", \"textcat\"])\n",
    "\n",
    "# Defining preprocess functions.\n",
    "def preprocess_1(text):\n",
    "    return [t.lemma_ for t in nlp(text)]\n",
    "def preprocess_2(text):\n",
    "    return [t.lemma_ for t in nlp(text) if t.is_stop]\n",
    "def preprocess_3(text):\n",
    "    return [t.lemma_ for t in nlp(text) if t.lemma_.isalpha()]\n",
    "def preprocess_4(text):\n",
    "    return [t.lemma_ for t in nlp(text) if t.lemma_.isalpha() and not t.is_stop]"
   ]
  },
  {
   "cell_type": "markdown",
   "metadata": {},
   "source": [
    "**3.1) Naive Bayes**"
   ]
  },
  {
   "cell_type": "markdown",
   "metadata": {},
   "source": [
    "3.1.1) Calculating evlauation metrics for defined combinations using GridSearch with CV."
   ]
  },
  {
   "cell_type": "code",
   "execution_count": null,
   "metadata": {},
   "outputs": [],
   "source": [
    "myfunctions.vect_model_tuning(train_set = tuning_df, \n",
    "                  model = MultinomialNB, \n",
    "                  vectorizers = [CountVectorizer, TfidfVectorizer],\n",
    "                  preprocessors = [None, preprocess_1, preprocess_2, preprocess_3, preprocess_4],\n",
    "                  params_dict = {\"clf__alpha\": (0, 1, 2, 3)},\n",
    "                  file_name = \"nb\", \n",
    "                  njobs = -1)"
   ]
  },
  {
   "cell_type": "markdown",
   "metadata": {},
   "source": [
    "*3.1.2) Evaluating visually.*"
   ]
  },
  {
   "cell_type": "code",
   "execution_count": 3,
   "metadata": {},
   "outputs": [
    {
     "data": {
      "image/png": "[encoded data removed]",
      "text/plain": [
       "<Figure size 432x288 with 1 Axes>"
      ]
     },
     "metadata": {
      "needs_background": "light"
     },
     "output_type": "display_data"
    }
   ],
   "source": [
    "# Reading data.\n",
    "nb_tuning_results = pd.read_csv(\"vect_model_tuning/nb.csv\")\n",
    "myfunctions.visual_model_comparison(metric_list = [\"accuracy\", \"f1\"], \n",
    "                                    gs_res = nb_tuning_results, \n",
    "                                    directory = \"vect_model_tuning\",\n",
    "                                    plot_name = \"nb\",\n",
    "                                    top_n = 10)"
   ]
  },
  {
   "cell_type": "markdown",
   "metadata": {},
   "source": [
    "**3.2) Decision Tree.**"
   ]
  },
  {
   "cell_type": "markdown",
   "metadata": {},
   "source": [
    "3.2.1) Calculating evlauation metrics for defined combinations using GridSearch with CV."
   ]
  },
  {
   "cell_type": "code",
   "execution_count": null,
   "metadata": {},
   "outputs": [],
   "source": [
    "myfunctions.vect_model_tuning(train_set = tuning_df, \n",
    "                              model = DecisionTreeClassifier, \n",
    "                              vectorizers = [CountVectorizer, TfidfVectorizer],\n",
    "                              preprocessors = [None,preprocess_1, preprocess_3, preprocess_4], #preprocess_2\n",
    "                              params_dict = {\"clf__criterion\": (\"gini\", \"entropy\"),\n",
    "                                             \"clf__max_depth\": (45, 50, 55)},\n",
    "                              file_name = \"tree\", \n",
    "                              njobs = 1)"
   ]
  },
  {
   "cell_type": "markdown",
   "metadata": {},
   "source": [
    "*3.2.2) Evaluating visually.*"
   ]
  },
  {
   "cell_type": "code",
   "execution_count": 4,
   "metadata": {},
   "outputs": [
    {
     "data": {
      "image/png": "[encoded data removed]",
      "text/plain": [
       "<Figure size 432x288 with 1 Axes>"
      ]
     },
     "metadata": {
      "needs_background": "light"
     },
     "output_type": "display_data"
    }
   ],
   "source": [
    "# Reading data.\n",
    "tree_tuning_results = pd.read_csv(\"vect_model_tuning/tree.csv\")\n",
    "myfunctions.visual_model_comparison(metric_list = [\"accuracy\", \"f1\"], \n",
    "                                    gs_res = tree_tuning_results, \n",
    "                                    directory = \"vect_model_tuning\",\n",
    "                                    plot_name = \"tree\",\n",
    "                                    top_n = 10)"
   ]
  },
  {
   "cell_type": "markdown",
   "metadata": {},
   "source": [
    "**3.3) XGBoost.**"
   ]
  },
  {
   "cell_type": "markdown",
   "metadata": {},
   "source": [
    "3.3.1) Calculating evlauation metrics for defined combinations using GridSearch with CV."
   ]
  },
  {
   "cell_type": "code",
   "execution_count": null,
   "metadata": {},
   "outputs": [],
   "source": [
    "myfunctions.vect_model_tuning(train_set = tuning_df, \n",
    "                              model = XGBClassifier, \n",
    "                              vectorizers = [CountVectorizer, TfidfVectorizer],\n",
    "                              preprocessors = [None, preprocess_1, preprocess_3, preprocess_4], #preprocess_2\n",
    "                              params_dict = {\"clf__eta\": (0.1, 0.3),\n",
    "                                             \"clf__max_depth\": (6, 8)},\n",
    "                              file_name = \"xgb\", \n",
    "                              njobs = 1)"
   ]
  },
  {
   "cell_type": "markdown",
   "metadata": {},
   "source": [
    "*3.3.2) Evaluating visually.*"
   ]
  },
  {
   "cell_type": "code",
   "execution_count": 5,
   "metadata": {},
   "outputs": [
    {
     "data": {
      "image/png": "[encoded data removed]",
      "text/plain": [
       "<Figure size 432x288 with 1 Axes>"
      ]
     },
     "metadata": {
      "needs_background": "light"
     },
     "output_type": "display_data"
    }
   ],
   "source": [
    "# Reading data.\n",
    "xgb_tuning_results = pd.read_csv(\"vect_model_tuning/xgb.csv\")\n",
    "myfunctions.visual_model_comparison(metric_list = [\"accuracy\", \"f1\"], \n",
    "                                    gs_res = xgb_tuning_results, \n",
    "                                    directory = \"vect_model_tuning\",\n",
    "                                    plot_name = \"xgb\",\n",
    "                                    top_n = 10)"
   ]
  },
  {
   "cell_type": "markdown",
   "metadata": {},
   "source": [
    "# **4.) Fitting best identified classifiers (3 in total) on whole training set. Classifying on whole test set. Deciding for one.**"
   ]
  },
  {
   "cell_type": "markdown",
   "metadata": {},
   "source": [
    "**4.1) Fitting classifiers. Evaluating.**"
   ]
  },
  {
   "cell_type": "code",
   "execution_count": null,
   "metadata": {},
   "outputs": [],
   "source": [
    "# Initializing pipelines for three best identified classifiers.\n",
    "nb_pipeline = make_pipeline(CountVectorizer(tokenizer = preprocess_1), MultinomialNB(alpha = 3))\n",
    "tree_pipeline = make_pipeline(CountVectorizer(tokenizer = preprocess_3),\n",
    "                              DecisionTreeClassifier(criterion = \"gini\", max_depth = 45))\n",
    "xgb_pipeline = make_pipeline(CountVectorizer(tokenizer = preprocess_3),\n",
    "                             XGBClassifier(eta = 0.3, max_depth = 8))\n",
    "\n",
    "# Defining dictionary with pipelines and corresponding classifier names.\n",
    "classifier_pipelines = {\"nb\": [\"Naive Bayes\", nb_pipeline],\n",
    "                        \"tree\": [\"Decision Tree\", tree_pipeline],\n",
    "                        \"xgb\": [\"XGBoost\", xgb_pipeline]}\n",
    "\n",
    "# Fitting and evaluating all classifiers on entire training / test set.\n",
    "myfunctions.fit_best_classifiers(classifier_pipelines, train_df, test_df)"
   ]
  },
  {
   "cell_type": "markdown",
   "metadata": {},
   "source": [
    "**4.2) Visual inspection of results.**"
   ]
  },
  {
   "cell_type": "code",
   "execution_count": 6,
   "metadata": {},
   "outputs": [
    {
     "data": {
      "image/png": "[encoded data removed]",
      "text/plain": [
       "<Figure size 432x288 with 1 Axes>"
      ]
     },
     "metadata": {
      "needs_background": "light"
     },
     "output_type": "display_data"
    },
    {
     "data": {
      "image/png": "[encoded data removed]",
      "text/plain": [
       "<Figure size 432x288 with 1 Axes>"
      ]
     },
     "metadata": {
      "needs_background": "light"
     },
     "output_type": "display_data"
    },
    {
     "data": {
      "image/png": "[encoded data removed]",
      "text/plain": [
       "<Figure size 432x288 with 1 Axes>"
      ]
     },
     "metadata": {
      "needs_background": "light"
     },
     "output_type": "display_data"
    }
   ],
   "source": [
    "file_class = pd.read_csv(\"best_classifiers/results_classes.csv\")\n",
    "file_probs = pd.read_csv(\"best_classifiers/results_probs.csv\")\n",
    "\n",
    "# Comparing differenct classifiers.\n",
    "\n",
    "myfunctions.visual_model_comparison(metric_list = [\"accuracy\", \"precision\", \"recall\", \"f1\"], \n",
    "                                    gs_res = file_class, \n",
    "                                    directory = \"best_classifiers\",\n",
    "                                    plot_name = \"plot_classes\",\n",
    "                                    x_label = \"\")\n",
    "\n",
    "myfunctions.visual_model_comparison(metric_list = [\"accuracy\", \"f1\"], \n",
    "                                    gs_res = file_class, \n",
    "                                    directory = \"best_classifiers\",\n",
    "                                    plot_name = \"plot_classes_short\",\n",
    "                                    x_label = \"\")\n",
    "\n",
    "# Single visual inspection of Naive Bayes classifier using \"75%-approach\".\n",
    "\n",
    "## Subsetting data.\n",
    "file_probs_nb = file_probs.loc[file_probs[\"model_idx\"] == \"Naive Bayes\"]\n",
    "\n",
    "## Plotting test and training scores.\n",
    "plt.plot(\"Accuracy\", file_probs_nb[\"mean_val_accuracy\"], marker = \"o\", color = \"blue\")\n",
    "plt.plot(\"Accuracy\", file_probs_nb[\"mean_train_accuracy\"], marker = \"o\", color = \"grey\", alpha = 0.5)\n",
    "plt.plot(\"Precision\", file_probs_nb[\"mean_val_precision\"], marker = \"o\", color = \"blue\")\n",
    "plt.plot(\"Precision\", file_probs_nb[\"mean_train_precision\"], marker = \"o\", color = \"grey\", alpha = 0.5)\n",
    "plt.plot(\"Recall\", file_probs_nb[\"mean_val_recall\"], marker = \"o\", color = \"blue\")\n",
    "plt.plot(\"Recall\", file_probs_nb[\"mean_train_recall\"], marker = \"o\", color = \"grey\", alpha = 0.5)\n",
    "plt.plot(\"F1\", file_probs_nb[\"mean_val_f1\"], marker = \"o\", color = \"blue\")\n",
    "plt.plot(\"F1\", file_probs_nb[\"mean_train_f1\"], marker = \"o\", color = \"grey\", alpha = 0.5)\n",
    "\n",
    "## Plotting difference between scores as line.\n",
    "axes = plt.gca()\n",
    "ylim = axes.get_ylim()\n",
    "ylim_range = ylim[1] - ylim[0]\n",
    "for metric in [\"accuracy\", \"precision\", \"recall\", \"f1\"]:\n",
    "    val_name = \"mean_val_\" + metric\n",
    "    val_metric = float(file_probs_nb[val_name])\n",
    "    train_name = \"mean_train_\" + metric\n",
    "    train_metric = float(file_probs_nb[train_name])\n",
    "    if val_metric <= train_metric:\n",
    "        vline_min = 1 - (ylim[1] - val_metric) / ylim_range\n",
    "        vline_max = 1 - (ylim[1] - train_metric) / ylim_range\n",
    "    else:\n",
    "        vline_min = 1 - (ylim[1] - train_metric) / ylim_range\n",
    "        vline_max = 1 - (ylim[1] - val_metric) / ylim_range\n",
    "    plt.axvline(metric.capitalize(), ymin = vline_min, ymax = vline_max, color = \"grey\", alpha = 0.5)\n",
    "    \n",
    "## Adding legend and labels.\n",
    "legend_elements = [Line2D([0], [0], marker = 'o', color = \"w\",\n",
    "                          markerfacecolor = \"blue\", label = \"Test set\"),\n",
    "                   Line2D([0], [0], marker = 'o', color = \"w\", alpha = 0.5,\n",
    "                          markerfacecolor = \"grey\", label = \"Training set\"),\n",
    "                   Line2D([0], [0], color = \"grey\", alpha = 0.5, lw = 2, label = \"Difference\")]               \n",
    "plt.legend(handles = legend_elements, loc = \"upper center\", ncol = 3,\n",
    "           bbox_to_anchor=(0.5, 1.12), fancybox = True, shadow = False)\n",
    "plt.xlabel(\"Metric\")\n",
    "plt.ylabel(\"Score\")\n",
    "\n",
    "## Saving plot.\n",
    "plt.savefig(\"best_classifiers/plot_probs_nb.png\", dpi = 500)"
   ]
  },
  {
   "cell_type": "markdown",
   "metadata": {},
   "source": [
    "**4.3) Loading best classifier.**\n",
    "\n",
    "Naive Bayes was previously stored as the best classifier (not shown here anymore)."
   ]
  },
  {
   "cell_type": "code",
   "execution_count": 10,
   "metadata": {},
   "outputs": [],
   "source": [
    "best_classifier = pickle.load(open(\"best_classifiers/best_Naive Bayes_classifier.sav\", \"rb\"))"
   ]
  },
  {
   "cell_type": "markdown",
   "metadata": {},
   "source": [
    "# **5.) Crawling and preparing self-crawled tweets.**"
   ]
  },
  {
   "cell_type": "markdown",
   "metadata": {},
   "source": [
    "**5.0.1) Crawling Tweepy tweets.**"
   ]
  },
  {
   "cell_type": "code",
   "execution_count": null,
   "metadata": {},
   "outputs": [],
   "source": [
    "import tweepy\n",
    "import pandas as pd\n",
    "import json # The API returns JSON formatted text\n",
    "\n",
    "access_token  = \"1195001286401376257-XOE3KgkjwAH0Zz5WshgTh0H361P82a\"\n",
    "access_token_secret  = \"ksBLfi4tsyaHrFrtQoQrHmTg8MQbTAAXS0uUDtuxTLOlX\"\n",
    "consumer_key  = \"jYPvtE9lORvpeqEbWlczWj9d4\"\n",
    "consumer_secret  = \"htkEyKbOI0D7SxtkKI2rSN3cVJIpx81k3N3Axe5Jo8DAhVCKq3\"\n",
    "\n",
    "# Pass OAuth details to tweepy's OAuth handler\n",
    "auth = tweepy.OAuthHandler(consumer_key, consumer_secret)\n",
    "auth.set_access_token(access_token, access_token_secret)\n",
    "\n",
    "# SEARCH PARAMETER\n",
    "OUTPUT_FILE = \"twitter_api_results10.txt\"\n",
    "FINAL_OUTPUT_CSV = \"Africa_South_15_12_4.csv\"\n",
    "LOCATIONS = -18.457031,-36.644918,53.437500,12.153904\n",
    "# LOCATIONS = -13.683,48.5,3.858,64.067 UK\n",
    "COUNTRY = \"Africa South\"\n",
    "TWEETS_TO_CAPTURE = 5000\n",
    "\n",
    "class MyStreamListener(tweepy.StreamListener):\n",
    "    \"\"\"\n",
    "    Twitter listener, collects streaming tweets and output to a file\n",
    "    \"\"\"\n",
    "    def __init__(self, api=None):\n",
    "        super(MyStreamListener, self).__init__()\n",
    "        self.num_tweets = 0\n",
    "        self.file = open(OUTPUT_FILE, \"w\")\n",
    "\n",
    "    def on_status(self, status):\n",
    "        tweet = status._json\n",
    "        self.file.write(json.dumps(tweet) + '\\n' )\n",
    "        self.num_tweets += 1\n",
    "        \n",
    "        # Stops streaming when it reaches the limit\n",
    "        if self.num_tweets <= TWEETS_TO_CAPTURE:\n",
    "            if self.num_tweets % 50 == 0: # just to see some progress...\n",
    "                print('Numer of tweets captured so far: {}'.format(self.num_tweets))\n",
    "            return True\n",
    "        else:\n",
    "            return False\n",
    "        self.file.close()\n",
    "\n",
    "    def on_error(self, status):\n",
    "        print(status)\n",
    "\n",
    "# Initialize Stream listener. Make sure to pay attention to API limit. \n",
    "l = MyStreamListener(api = tweepy.API(wait_on_rate_limit=True))\n",
    "\n",
    "# Create you Stream object with authentication\n",
    "stream = tweepy.Stream(auth, l)\n",
    "\n",
    "# Filter Twitter Streams to capture data by the keywords:\n",
    "stream.filter(locations = LOCATIONS)\n",
    "\n",
    "# Initialize empty list to store tweets\n",
    "tweets_data = []\n",
    "\n",
    "# Open connection to file\n",
    "with open(OUTPUT_FILE, \"r\") as tweets_file:\n",
    "    # Read in tweets and store in list\n",
    "    for line in tweets_file:\n",
    "        tweet = json.loads(line)\n",
    "        tweets_data.append(tweet)\n",
    "\n",
    "# Initialize empty df.\n",
    "df = pd.DataFrame(columns=['date_time', \"country\", 'tweet'])\n",
    "\n",
    "# Store only desired information within df.\n",
    "for tweet_no in range(0, len(tweets_data)):\n",
    "    \n",
    "    # Filtering out non-english-tweets.\n",
    "    if tweets_data[tweet_no][\"lang\"] == \"en\":\n",
    "        \n",
    "        # If tweets are long, they are shortenend in \"text\" and stored in \"extended_tweet\".\n",
    "        if \"extended_tweet\" in tweets_data[tweet_no].keys():\n",
    "            df = df.append(pd.DataFrame({\"date_time\": [tweets_data[tweet_no][\"created_at\"]],\n",
    "                                         \"country\": COUNTRY,\n",
    "                                         \"tweet\": [tweets_data[tweet_no][\"extended_tweet\"][\"full_text\"]]}))\n",
    "        else:\n",
    "            df = df.append(pd.DataFrame({\"date_time\": [tweets_data[tweet_no][\"created_at\"]],\n",
    "                                         \"country\": COUNTRY,\n",
    "                                         \"tweet\": [tweets_data[tweet_no][\"text\"]]}))\n",
    "\n",
    "# Adjust date-time-variable.\n",
    "df['date_time'] = pd.to_datetime(df[\"date_time\"])\n",
    "\n",
    "# Write as csv.\n",
    "df.to_csv(FINAL_OUTPUT_CSV, index = False)"
   ]
  },
  {
   "cell_type": "markdown",
   "metadata": {},
   "source": [
    "**5.0.2) Crawling GetOldTweets3 tweets.**"
   ]
  },
  {
   "cell_type": "code",
   "execution_count": null,
   "metadata": {},
   "outputs": [],
   "source": [
    "i = 0\n",
    "\n",
    "circles = [#(\"UK\", \"54.673831, -7.294922\", \"651km\"), # UK\n",
    "           (\"Africa_South\", \"-15.001388342381775, 37.675766944885254\", \"3139km\"), # africa1\n",
    "           (\"Africa_South\", \"-3.3964456609936056,-0.2050924301147461\", \"1852km\"), # africa2\n",
    "           (\"Africa_South\", \"2.110518253704713, 16.24735135781657\", \"1247km\")] # africa3\n",
    "\n",
    "time_ranges = [(\"2015-01-01\", \"2015-12-31\"),\n",
    "               (\"2016-01-01\", \"2016-12-31\"),\n",
    "               (\"2017-01-01\", \"2017-12-31\"),\n",
    "               (\"2018-01-01\", \"2018-12-31\"),\n",
    "               (\"2019-01-01\", \"2019-12-31\")]\n",
    "\n",
    "# Initializing empty dataframe.\n",
    "all_tweets = pd.DataFrame(columns=[\"country\", \"year\", \"tweet\"])\n",
    "\n",
    "for circle in circles:\n",
    "    country = circle[0]\n",
    "    print(\"country:\" + str(country))\n",
    "    coordinates = circle[1]\n",
    "    radius = circle[2]\n",
    "    if country == \"UK\":\n",
    "        n_tweets = 40000\n",
    "    elif country == \"Africa_South\":\n",
    "        if radius == \"3139km\": # africa1\n",
    "            n_tweets = 28000\n",
    "        elif radius == \"1852km\":  # africa2\n",
    "            n_tweets = 8000\n",
    "        else:  # africa3\n",
    "            n_tweets = 4000\n",
    "        \n",
    "        # The chosen number of tweets for the African region is aimed to be proportional to the size of the region.\n",
    "        \n",
    "    for time_range in time_ranges:\n",
    "        start_date = time_range[0]\n",
    "        end_date = time_range[1]\n",
    "        print(\"year:\" + start_date[:4])\n",
    "        before_crawling = time.time()\n",
    "        tweetCriteria = got.manager.TweetCriteria().setMaxTweets(n_tweets).setSince(start_date).setUntil(end_date).setNear(coordinates).setWithin(radius).setLang(\"en\")\n",
    "        tweets = got.manager.TweetManager.getTweets(tweetCriteria)\n",
    "        print(\"Crawling done. Taken time: \" + str(time.time() - before_crawling))\n",
    "        print(len(tweets))\n",
    "        for tweet in tweets:\n",
    "            all_tweets.loc[i] = [country, start_date[:4], tweet.text]\n",
    "            i = i+1\n",
    "        \n",
    "        all_tweets.to_csv(\"tweets_by_year_africa.csv\", index = False)"
   ]
  },
  {
   "cell_type": "markdown",
   "metadata": {},
   "source": [
    "**5.1) Reading Tweepy data.**"
   ]
  },
  {
   "cell_type": "code",
   "execution_count": 303,
   "metadata": {},
   "outputs": [
    {
     "name": "stdout",
     "output_type": "stream",
     "text": [
      "102158\n",
      "102349\n"
     ]
    }
   ],
   "source": [
    "uk1 = pd.read_csv(\"datasets/own_tweets/UK_15_11.csv\")\n",
    "uk2 = pd.read_csv(\"datasets/own_tweets/UK_15_11_2.csv\")\n",
    "uk3 = pd.read_csv(\"datasets/own_tweets/UK_15_12.csv\")\n",
    "uk4 = pd.read_csv(\"datasets/own_tweets/UK_15_12_2.csv\")\n",
    "uk5 = pd.read_csv(\"datasets/own_tweets/UK_15_12_3.csv\")\n",
    "uk_df = uk1.append(uk2, ignore_index=True)\n",
    "uk_df = uk_df.append(uk3, ignore_index = True)\n",
    "uk_df = uk_df.append(uk4, ignore_index = True)\n",
    "uk_df = uk_df.append(uk5, ignore_index = True)\n",
    "africa1 = pd.read_csv(\"datasets/own_tweets/Africa_South_15_11.csv\")\n",
    "africa2 = pd.read_csv(\"datasets/own_tweets/Africa_South_19_11.csv\")\n",
    "africa3 = pd.read_csv(\"datasets/own_tweets/Africa_South_15_12.csv\")\n",
    "africa4 = pd.read_csv(\"datasets/own_tweets/Africa_South_15_12_2.csv\")\n",
    "africa5 = pd.read_csv(\"datasets/own_tweets/Africa_South_15_12_3.csv\")\n",
    "africa6 = pd.read_csv(\"datasets/own_tweets/Africa_South_15_12_4.csv\")\n",
    "africa_df = africa1.append(africa2, ignore_index=True)\n",
    "africa_df = africa_df.append(africa3, ignore_index=True)\n",
    "africa_df = africa_df.append(africa4, ignore_index=True)\n",
    "africa_df = africa_df.append(africa5, ignore_index=True)\n",
    "africa_df = africa_df.append(africa6, ignore_index=True)\n",
    "print(len(uk_df.tweet))\n",
    "print(len(africa_df))"
   ]
  },
  {
   "cell_type": "markdown",
   "metadata": {},
   "source": [
    "**5.2) Modidying Tweepy data.**"
   ]
  },
  {
   "cell_type": "code",
   "execution_count": 304,
   "metadata": {},
   "outputs": [],
   "source": [
    "# Removing four weird tweet collections for africa_df.\n",
    "africa_df = africa_df[~africa_df[\"date_time\"].str[:7].isin(['Forgett', 'FRIDAYS', 'playhil', 'who wil'])]\n",
    "\n",
    "# Removing usernames and links.\n",
    "for i in africa_df.index:\n",
    "    africa_df.at[i, 'tweet'] = re.sub(r\"(?:\\@|https?\\://)\\S+\", \"\", africa_df.at[i, 'tweet'])\n",
    "for i in uk_df.index:\n",
    "    uk_df.at[i, 'tweet'] = re.sub(r\"(?:\\@|https?\\://)\\S+\", \"\", uk_df.at[i, 'tweet'])\n",
    "\n",
    "# Removing emojis (as in provided origin_df).\n",
    "for i in africa_df.index:\n",
    "    africa_df.at[i, 'tweet'] = africa_df.at[i, 'tweet'].encode('ascii', 'ignore').decode('ascii')\n",
    "for i in uk_df.index:\n",
    "    uk_df.at[i, 'tweet'] = uk_df.at[i, 'tweet'].encode('ascii', 'ignore').decode('ascii')"
   ]
  },
  {
   "cell_type": "markdown",
   "metadata": {},
   "source": [
    "**5.3) Describing Tweepy data.**"
   ]
  },
  {
   "cell_type": "code",
   "execution_count": 306,
   "metadata": {},
   "outputs": [
    {
     "name": "stdout",
     "output_type": "stream",
     "text": [
      "['2019-11-15' '2019-11-19' '2019-12-15']\n",
      "['2019-11-14' '2019-11-15' '2019-12-15']\n",
      "['2009-04' '2009-05' '2009-06']\n",
      "(102158, 72019)\n",
      "(102345, 62743)\n"
     ]
    }
   ],
   "source": [
    "# Proving that tweets are not used for training.\n",
    "print(africa_df[\"date_time\"].str[:10].unique()) # array(['2019-11-15', '2019-11-19'], dtype=object)\n",
    "print(uk_df[\"date_time\"].str[:10].unique()) # array(['2019-11-14', '2019-11-15'], dtype=object)\n",
    "print(origin_df[\"date_time\"].str[:7].unique()) # array(['2009-04', '2009-05', '2009-06'], dtype=object)\n",
    "\n",
    "# Comparing vocabulary sizes of both dataframes. Size-wise pretty equal.\n",
    "uk_X = CountVectorizer().fit_transform(uk_df[\"tweet\"])\n",
    "print(uk_X.shape)\n",
    "africa_X = CountVectorizer().fit_transform(africa_df[\"tweet\"])\n",
    "print(africa_X.shape)"
   ]
  },
  {
   "cell_type": "markdown",
   "metadata": {},
   "source": [
    "# 6.) Classifying self-crawled tweets."
   ]
  },
  {
   "cell_type": "markdown",
   "metadata": {},
   "source": [
    "**6.1) Performing classification on Tweepy tweets.**"
   ]
  },
  {
   "cell_type": "code",
   "execution_count": null,
   "metadata": {},
   "outputs": [],
   "source": [
    "uk_prediction = myfunctions.classify_new_tweets(new_tweets_df = uk_df, \n",
    "                                                classifier = best_classifier)\n",
    "\n",
    "africa_prediction = myfunctions.classify_new_tweets(new_tweets_df = africa_df, \n",
    "                                                    classifier = best_classifier)"
   ]
  },
  {
   "cell_type": "markdown",
   "metadata": {},
   "source": [
    "**6.2) Analyzing general distribution for Tweepy tweets.**"
   ]
  },
  {
   "cell_type": "code",
   "execution_count": 309,
   "metadata": {},
   "outputs": [
    {
     "name": "stdout",
     "output_type": "stream",
     "text": [
      "total tweets considered (UK, origin): 60579\n",
      "total tweets considered (Africa, origin): 50449\n",
      "\n",
      "total tweets considered (UK, sample): 50000\n",
      "% positive tweets (UK, sample): 0.66148\n",
      "% negative tweets (UK, sample): 0.33852\n",
      "\n",
      "total tweets considered (Africa, sample): 50000\n",
      "% positive tweets (Africa, sample): 0.62608\n",
      "% negative tweets (Africa, sample): 0.37392\n"
     ]
    }
   ],
   "source": [
    "uk_pos = uk_prediction.loc[uk_prediction[\"classification\"] == \"pos\"]\n",
    "uk_neg = uk_prediction.loc[uk_prediction[\"classification\"] == \"neg\"]\n",
    "\n",
    "africa_pos = africa_prediction.loc[africa_prediction[\"classification\"] == \"pos\"]\n",
    "africa_neg = africa_prediction.loc[africa_prediction[\"classification\"] == \"neg\"]\n",
    "\n",
    "# Calculating number of considered tweets.\n",
    "print(\"total tweets considered (UK, origin): \" + str(len(uk_pos) + len(uk_neg)))\n",
    "print(\"total tweets considered (Africa, origin): \" + str(len(africa_pos) + len(africa_neg)))\n",
    "\n",
    "# Downsampling number of considered tweets to 50,000 for both regions (by random!).\n",
    "uk_prediction_sample = uk_prediction.sample(n = 50000)\n",
    "uk_sample_pos = uk_prediction_sample.loc[uk_prediction_sample[\"classification\"] == \"pos\"]\n",
    "uk_sample_neg = uk_prediction_sample.loc[uk_prediction_sample[\"classification\"] == \"neg\"]\n",
    "\n",
    "print(\"\\ntotal tweets considered (UK, sample): \" + str(len(uk_sample_pos) + len(uk_sample_neg)))\n",
    "print(\"% positive tweets (UK, sample): \" + str(len(uk_sample_pos)/(len(uk_sample_neg) + len(uk_sample_pos))))\n",
    "print(\"% negative tweets (UK, sample): \" + str(len(uk_sample_neg)/(len(uk_sample_neg) + len(uk_sample_pos))))\n",
    "\n",
    "africa_prediction_sample = africa_prediction.sample(n = 50000)\n",
    "africa_sample_pos = africa_prediction_sample.loc[africa_prediction_sample[\"classification\"] == \"pos\"]\n",
    "africa_sample_neg = africa_prediction_sample.loc[africa_prediction_sample[\"classification\"] == \"neg\"]\n",
    "\n",
    "print(\"\\ntotal tweets considered (Africa, sample): \" + str(len(africa_sample_pos) + len(africa_sample_neg)))\n",
    "print(\"% positive tweets (Africa, sample): \" + str(len(africa_sample_pos)/(len(africa_sample_neg) + len(africa_sample_pos))))\n",
    "print(\"% negative tweets (Africa, sample): \" + str(len(africa_sample_neg)/(len(africa_sample_neg) + len(africa_sample_pos))))"
   ]
  },
  {
   "cell_type": "markdown",
   "metadata": {},
   "source": [
    "**6.3) Further analyzing sentiments by category within Tweepy tweets.**"
   ]
  },
  {
   "cell_type": "code",
   "execution_count": null,
   "metadata": {},
   "outputs": [],
   "source": [
    "# Deriving entity type for each tweet using spacy.\n",
    "nlp = spacy.load(\"en_core_web_sm\")\n",
    "def get_entities(df_tweets):\n",
    "    ents_list = [] \n",
    "    for index, row in df_tweets.iterrows():\n",
    "        doc = nlp(row[\"tweet\"])\n",
    "        for ent in doc.ents:\n",
    "            ents_list.append(ent.label_)\n",
    "    return ents_list\n",
    "\n",
    "ents_uk_pos = get_entities(uk_sample_pos)\n",
    "pickle.dump(ents_uk_pos, open(\"entities/uk_pos.sav\", 'wb'))\n",
    " \n",
    "ents_uk_neg = get_entities(uk_sample_neg)\n",
    "pickle.dump(ents_uk_neg, open(\"entities/uk_neg.sav\", 'wb'))\n",
    "\n",
    "ents_africa_pos = get_entities(africa_sample_pos)\n",
    "pickle.dump(ents_africa_pos, open(\"entities/africa_pos.sav\", 'wb'))\n",
    " \n",
    "ents_africa_neg = get_entities(africa_sample_neg)\n",
    "pickle.dump(ents_africa_neg, open(\"entities/africa_neg.sav\", 'wb'))"
   ]
  },
  {
   "cell_type": "code",
   "execution_count": 2,
   "metadata": {},
   "outputs": [],
   "source": [
    "# Counting entity types for UK and Africa. Storing results in seperated dataframes.\n",
    "from collections import Counter\n",
    "ents_uk_pos = pickle.load(open(\"entities/uk_pos.sav\", \"rb\"))\n",
    "ents_uk_pos = pd.DataFrame.from_dict(Counter(ents_uk_pos), orient='index').reset_index()\n",
    "ents_uk_neg = pickle.load(open(\"entities/uk_neg.sav\", \"rb\"))\n",
    "ents_uk_neg = pd.DataFrame.from_dict(Counter(ents_uk_neg), orient='index').reset_index()\n",
    "ents_africa_pos = pickle.load(open(\"entities/africa_pos.sav\", \"rb\"))\n",
    "ents_africa_pos = pd.DataFrame.from_dict(Counter(ents_africa_pos), orient='index').reset_index()\n",
    "ents_africa_neg = pickle.load(open(\"entities/africa_neg.sav\", \"rb\"))\n",
    "ents_africa_neg = pd.DataFrame.from_dict(Counter(ents_africa_neg), orient='index').reset_index()"
   ]
  },
  {
   "cell_type": "code",
   "execution_count": 3,
   "metadata": {},
   "outputs": [],
   "source": [
    "# Merging seperated dataframes. Calculating relative proportion of each entity type.\n",
    "ents_all = ents_uk_pos.merge(\n",
    "    right = ents_uk_neg, how = \"outer\", on = \"index\").merge(\n",
    "    right = ents_africa_pos, how = \"outer\", on = \"index\").merge(\n",
    "    right = ents_africa_neg, how = \"outer\", on = \"index\")\n",
    "ents_all.columns = [\"entity\", \"uk_pos\", \"uk_neg\", \"africa_pos\", \"africa_neg\"]\n",
    "ents_all = ents_all.sort_values(by = \"entity\")\n",
    "ents_all[\"uk_pos\"] = ents_all[\"uk_pos\"] / sum(ents_all[\"uk_pos\"])\n",
    "ents_all[\"uk_neg\"] = ents_all[\"uk_neg\"] / sum(ents_all[\"uk_neg\"])\n",
    "ents_all[\"africa_pos\"] = ents_all[\"africa_pos\"] / sum(ents_all[\"africa_pos\"])\n",
    "ents_all[\"africa_neg\"] = ents_all[\"africa_neg\"] / sum(ents_all[\"africa_neg\"])\n",
    "ents_all.iloc[17, 0] = \"WORK OF ART\""
   ]
  },
  {
   "cell_type": "code",
   "execution_count": 5,
   "metadata": {},
   "outputs": [
    {
     "name": "stderr",
     "output_type": "stream",
     "text": [
      "findfont: Font family ['serif'] not found. Falling back to DejaVu Sans.\n"
     ]
    },
    {
     "data": {
      "image/png": "[encoded data removed]",
      "text/plain": [
       "<Figure size 432x288 with 1 Axes>"
      ]
     },
     "metadata": {
      "needs_background": "light"
     },
     "output_type": "display_data"
    },
    {
     "data": {
      "image/png": "[encoded data removed]",
      "text/plain": [
       "<Figure size 432x288 with 1 Axes>"
      ]
     },
     "metadata": {
      "needs_background": "light"
     },
     "output_type": "display_data"
    }
   ],
   "source": [
    "# Plotting results.\n",
    "\n",
    "# Defining font.\n",
    "rc('font', **{'family': 'serif', 'serif': ['Computer Modern']})\n",
    "rc('text', usetex=True)\n",
    "\n",
    "plt.subplots_adjust(bottom = 0.4)\n",
    "plt.plot(ents_all[\"entity\"], ents_all[\"uk_pos\"], marker = \"o\", color = \"black\", alpha = 0.5)\n",
    "plt.plot(ents_all[\"entity\"], ents_all[\"uk_neg\"], marker = \"o\", color = \"blue\", alpha = 0.5)\n",
    "plt.xticks(rotation = \"vertical\")\n",
    "legend_elements = [Line2D([0], [0], marker = \"o\" , color = \"black\", alpha = 0.5, lw = 2, label = \"UK positive\"),\n",
    "                   Line2D([0], [0], marker = \"o\", color = \"blue\", alpha = 0.5, lw = 2, label = \"UK negative\")]\n",
    "plt.legend(handles = legend_elements, loc = \"upper center\", ncol = 2,  \n",
    "           bbox_to_anchor=(0.5, 1.18), fancybox = True, shadow = False)\n",
    "plt.xlabel(\"Category\")\n",
    "plt.ylabel(\"Relative frequency\")\n",
    "plt.savefig(\"entities/uk.png\", dpi = 500)\n",
    "plt.show()\n",
    "\n",
    "plt.subplots_adjust(bottom = 0.4)\n",
    "plt.plot(ents_all[\"entity\"], ents_all[\"africa_pos\"], marker = \"o\", color = \"black\", alpha = 0.5)\n",
    "plt.plot(ents_all[\"entity\"], ents_all[\"africa_neg\"], marker = \"o\", color = \"blue\", alpha = 0.5)\n",
    "plt.xticks(rotation = \"vertical\")\n",
    "legend_elements = [Line2D([0], [0], marker = \"o\" , color = \"black\", alpha = 0.5, lw = 2, label = \"Africa positive\"),\n",
    "                   Line2D([0], [0], marker = \"o\", color = \"blue\", alpha = 0.5, lw = 2, label = \"Africa negative\")]\n",
    "plt.legend(handles = legend_elements, loc = \"upper center\", ncol = 2,  \n",
    "           bbox_to_anchor=(0.5, 1.18), fancybox = True, shadow = False)\n",
    "plt.xlabel(\"Category\")\n",
    "plt.ylabel(\"Relative frequency\")\n",
    "plt.savefig(\"entities/africa.png\", dpi = 500)\n",
    "plt.show()"
   ]
  },
  {
   "cell_type": "markdown",
   "metadata": {},
   "source": [
    "**6.4) Analyzing tweets over time using GetOldTweets3.**"
   ]
  },
  {
   "cell_type": "code",
   "execution_count": 11,
   "metadata": {},
   "outputs": [],
   "source": [
    "# Reading data.\n",
    "by_year_1 = pd.read_csv(\"datasets/own_tweets/tweets_by_year.csv\")\n",
    "by_year_2 = pd.read_csv(\"datasets/own_tweets/tweets_by_year2.csv\")\n",
    "by_year = by_year_1.append(by_year_2, ignore_index=True)\n",
    "\n",
    "# Dropping one case where tweet is nan.\n",
    "by_year = by_year.dropna()\n",
    "\n",
    "# Removing usernames and links.\n",
    "for i in by_year.index:\n",
    "    by_year.at[i, 'tweet'] = re.sub(r\"(?:\\@|https?\\://)\\S+\", \"\", by_year.at[i, 'tweet'])\n",
    "    \n",
    "# Removing emojis (as in provided origin_df).\n",
    "for i in by_year.index:\n",
    "    by_year.at[i, 'tweet'] = by_year.at[i, 'tweet'].encode('ascii', 'ignore').decode('ascii')"
   ]
  },
  {
   "cell_type": "code",
   "execution_count": 12,
   "metadata": {},
   "outputs": [
    {
     "data": {
      "text/plain": [
       "country       year\n",
       "Africa_South  2015    37000\n",
       "              2016    10696\n",
       "              2017    37000\n",
       "              2018    14024\n",
       "              2019    37000\n",
       "UK            2015    40000\n",
       "              2016    40000\n",
       "              2017    40000\n",
       "              2018    40000\n",
       "              2019    39999\n",
       "dtype: int64"
      ]
     },
     "execution_count": 12,
     "metadata": {},
     "output_type": "execute_result"
    }
   ],
   "source": [
    "by_year.groupby([\"country\", \"year\"]).size()"
   ]
  },
  {
   "cell_type": "code",
   "execution_count": 14,
   "metadata": {},
   "outputs": [],
   "source": [
    "# Classifying tweets.\n",
    "by_year_preds = myfunctions.classify_new_tweets(new_tweets_df = by_year, \n",
    "                                    classifier = best_classifier)"
   ]
  },
  {
   "cell_type": "code",
   "execution_count": 15,
   "metadata": {},
   "outputs": [
    {
     "data": {
      "text/plain": [
       "country       year\n",
       "Africa_South  2015    21024\n",
       "              2016     5847\n",
       "              2017    25463\n",
       "              2018    10722\n",
       "              2019    17051\n",
       "UK            2015    24661\n",
       "              2016    26997\n",
       "              2017    27063\n",
       "              2018    29781\n",
       "              2019    22347\n",
       "dtype: int64"
      ]
     },
     "execution_count": 15,
     "metadata": {},
     "output_type": "execute_result"
    }
   ],
   "source": [
    "# Analyzing predicted tweets per region and year.\n",
    "by_year_preds.groupby([\"country\", \"year\"]).size()\n",
    "# Need to downsampling to 5847 for comparison between country and year! That's enough, higher sample\n",
    "# sizes (e.g. by excluding 2016 and 2018) show similar results."
   ]
  },
  {
   "cell_type": "code",
   "execution_count": 23,
   "metadata": {},
   "outputs": [
    {
     "data": {
      "image/png": "[encoded data removed]",
      "text/plain": [
       "<Figure size 432x288 with 1 Axes>"
      ]
     },
     "metadata": {
      "needs_background": "light"
     },
     "output_type": "display_data"
    }
   ],
   "source": [
    "# Downsampling data. \n",
    "by_year_preds = by_year_preds.sample(frac = 1)\n",
    "by_year_preds_subset = pd.DataFrame(columns=[\"country\", \"year\", \"tweet\", \"prob_pos\", \"classification\"])\n",
    "for country in [\"UK\", \"Africa_South\"]:\n",
    "    for year in [2015, 2016, 2017, 2018, 2019]:\n",
    "        country_year_subset = by_year_preds.loc[by_year_preds[\"country\"] == country]\n",
    "        country_year_subset = country_year_subset.loc[country_year_subset[\"year\"] == year]\n",
    "        country_year_subset = country_year_subset.head(5847)\n",
    "        by_year_preds_subset = by_year_preds_subset.append(country_year_subset)\n",
    "\n",
    "# Aggregating data.\n",
    "by_year_preds_subset_grouped = pd.DataFrame({'count': by_year_preds_subset.groupby([\"country\", \"year\", \"classification\"]).size()}).reset_index()\n",
    "by_year_preds_subset_grouped[\"total\"] = 5847\n",
    "by_year_preds_subset_grouped[\"percentage\"] = by_year_preds_subset_grouped[\"count\"] / by_year_preds_subset_grouped[\"total\"]\n",
    "by_year_preds_subset_grouped = by_year_preds_subset_grouped.loc[by_year_preds_subset_grouped[\"classification\"] == \"pos\"]\n",
    "\n",
    "## Plotting.\n",
    "myfunctions.plot_tweets_by_year(by_year_preds_subset_grouped, \"comparison_country_year\")"
   ]
  }
 ],
 "metadata": {
  "kernelspec": {
   "display_name": "Python 3",
   "language": "python",
   "name": "python3"
  },
  "language_info": {
   "codemirror_mode": {
    "name": "ipython",
    "version": 3
   },
   "file_extension": ".py",
   "mimetype": "text/x-python",
   "name": "python",
   "nbconvert_exporter": "python",
   "pygments_lexer": "ipython3",
   "version": "3.7.1"
  }
 },
 "nbformat": 4,
 "nbformat_minor": 2
}
